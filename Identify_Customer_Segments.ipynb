{
 "cells": [
  {
   "cell_type": "markdown",
   "metadata": {},
   "source": [
    "# Project: Identify Customer Segments\n",
    "\n",
    "In this project, you will apply unsupervised learning techniques to identify segments of the population that form the core customer base for a mail-order sales company in Germany. These segments can then be used to direct marketing campaigns towards audiences that will have the highest expected rate of returns. The data that you will use has been provided by our partners at Bertelsmann Arvato Analytics, and represents a real-life data science task.\n",
    "\n",
    "This notebook will help you complete this task by providing a framework within which you will perform your analysis steps. In each step of the project, you will see some text describing the subtask that you will perform, followed by one or more code cells for you to complete your work. **Feel free to add additional code and markdown cells as you go along so that you can explore everything in precise chunks.** The code cells provided in the base template will outline only the major tasks, and will usually not be enough to cover all of the minor tasks that comprise it.\n",
    "\n",
    "It should be noted that while there will be precise guidelines on how you should handle certain tasks in the project, there will also be places where an exact specification is not provided. **There will be times in the project where you will need to make and justify your own decisions on how to treat the data.** These are places where there may not be only one way to handle the data. In real-life tasks, there may be many valid ways to approach an analysis task. One of the most important things you can do is clearly document your approach so that other scientists can understand the decisions you've made.\n",
    "\n",
    "At the end of most sections, there will be a Markdown cell labeled **Discussion**. In these cells, you will report your findings for the completed section, as well as document the decisions that you made in your approach to each subtask. **Your project will be evaluated not just on the code used to complete the tasks outlined, but also your communication about your observations and conclusions at each stage.**"
   ]
  },
  {
   "cell_type": "code",
   "execution_count": 3,
   "metadata": {},
   "outputs": [
    {
     "data": {
      "text/plain": [
       "'\\nImport note: The classroom currently uses sklearn version 0.19.\\nIf you need to use an imputer, it is available in sklearn.preprocessing.Imputer,\\ninstead of sklearn.impute as in newer versions of sklearn.\\n'"
      ]
     },
     "execution_count": 3,
     "metadata": {},
     "output_type": "execute_result"
    }
   ],
   "source": [
    "# import libraries here; add more as necessary\n",
    "import numpy as np\n",
    "import pandas as pd\n",
    "import matplotlib.pyplot as plt\n",
    "import seaborn as sns\n",
    "from time import time\n",
    "from sklearn.preprocessing import Imputer, StandardScaler\n",
    "from sklearn.decomposition import PCA\n",
    "from sklearn.cluster import KMeans\n",
    "# magic word for producing visualizations in notebook\n",
    "%matplotlib inline\n",
    "\n",
    "'''\n",
    "Import note: The classroom currently uses sklearn version 0.19.\n",
    "If you need to use an imputer, it is available in sklearn.preprocessing.Imputer,\n",
    "instead of sklearn.impute as in newer versions of sklearn.\n",
    "'''"
   ]
  },
  {
   "cell_type": "markdown",
   "metadata": {},
   "source": [
    "### Step 0: Load the Data\n",
    "\n",
    "There are four files associated with this project (not including this one):\n",
    "\n",
    "- `Udacity_AZDIAS_Subset.csv`: Demographics data for the general population of Germany; 891211 persons (rows) x 85 features (columns).\n",
    "- `Udacity_CUSTOMERS_Subset.csv`: Demographics data for customers of a mail-order company; 191652 persons (rows) x 85 features (columns).\n",
    "- `Data_Dictionary.md`: Detailed information file about the features in the provided datasets.\n",
    "- `AZDIAS_Feature_Summary.csv`: Summary of feature attributes for demographics data; 85 features (rows) x 4 columns\n",
    "\n",
    "Each row of the demographics files represents a single person, but also includes information outside of individuals, including information about their household, building, and neighborhood. You will use this information to cluster the general population into groups with similar demographic properties. Then, you will see how the people in the customers dataset fit into those created clusters. The hope here is that certain clusters are over-represented in the customers data, as compared to the general population; those over-represented clusters will be assumed to be part of the core userbase. This information can then be used for further applications, such as targeting for a marketing campaign.\n",
    "\n",
    "To start off with, load in the demographics data for the general population into a pandas DataFrame, and do the same for the feature attributes summary. Note for all of the `.csv` data files in this project: they're semicolon (`;`) delimited, so you'll need an additional argument in your [`read_csv()`](https://pandas.pydata.org/pandas-docs/stable/generated/pandas.read_csv.html) call to read in the data properly. Also, considering the size of the main dataset, it may take some time for it to load completely.\n",
    "\n",
    "Once the dataset is loaded, it's recommended that you take a little bit of time just browsing the general structure of the dataset and feature summary file. You'll be getting deep into the innards of the cleaning in the first major step of the project, so gaining some general familiarity can help you get your bearings."
   ]
  },
  {
   "cell_type": "code",
   "execution_count": 4,
   "metadata": {},
   "outputs": [],
   "source": [
    "# Load in the general demographics data.\n",
    "azdias = pd.read_csv('Udacity_AZDIAS_Subset.csv', sep=';')\n",
    "\n",
    "# Load in the feature summary file.\n",
    "feat_info = pd.read_csv('AZDIAS_Feature_Summary.csv', sep=';')"
   ]
  },
  {
   "cell_type": "code",
   "execution_count": 5,
   "metadata": {},
   "outputs": [
    {
     "data": {
      "text/html": [
       "<div>\n",
       "<style scoped>\n",
       "    .dataframe tbody tr th:only-of-type {\n",
       "        vertical-align: middle;\n",
       "    }\n",
       "\n",
       "    .dataframe tbody tr th {\n",
       "        vertical-align: top;\n",
       "    }\n",
       "\n",
       "    .dataframe thead th {\n",
       "        text-align: right;\n",
       "    }\n",
       "</style>\n",
       "<table border=\"1\" class=\"dataframe\">\n",
       "  <thead>\n",
       "    <tr style=\"text-align: right;\">\n",
       "      <th></th>\n",
       "      <th>AGER_TYP</th>\n",
       "      <th>ALTERSKATEGORIE_GROB</th>\n",
       "      <th>ANREDE_KZ</th>\n",
       "      <th>CJT_GESAMTTYP</th>\n",
       "      <th>FINANZ_MINIMALIST</th>\n",
       "      <th>FINANZ_SPARER</th>\n",
       "      <th>FINANZ_VORSORGER</th>\n",
       "      <th>FINANZ_ANLEGER</th>\n",
       "      <th>FINANZ_UNAUFFAELLIGER</th>\n",
       "      <th>FINANZ_HAUSBAUER</th>\n",
       "      <th>...</th>\n",
       "      <th>PLZ8_ANTG1</th>\n",
       "      <th>PLZ8_ANTG2</th>\n",
       "      <th>PLZ8_ANTG3</th>\n",
       "      <th>PLZ8_ANTG4</th>\n",
       "      <th>PLZ8_BAUMAX</th>\n",
       "      <th>PLZ8_HHZ</th>\n",
       "      <th>PLZ8_GBZ</th>\n",
       "      <th>ARBEIT</th>\n",
       "      <th>ORTSGR_KLS9</th>\n",
       "      <th>RELAT_AB</th>\n",
       "    </tr>\n",
       "  </thead>\n",
       "  <tbody>\n",
       "    <tr>\n",
       "      <th>0</th>\n",
       "      <td>-1</td>\n",
       "      <td>2</td>\n",
       "      <td>1</td>\n",
       "      <td>2.0</td>\n",
       "      <td>3</td>\n",
       "      <td>4</td>\n",
       "      <td>3</td>\n",
       "      <td>5</td>\n",
       "      <td>5</td>\n",
       "      <td>3</td>\n",
       "      <td>...</td>\n",
       "      <td>NaN</td>\n",
       "      <td>NaN</td>\n",
       "      <td>NaN</td>\n",
       "      <td>NaN</td>\n",
       "      <td>NaN</td>\n",
       "      <td>NaN</td>\n",
       "      <td>NaN</td>\n",
       "      <td>NaN</td>\n",
       "      <td>NaN</td>\n",
       "      <td>NaN</td>\n",
       "    </tr>\n",
       "    <tr>\n",
       "      <th>1</th>\n",
       "      <td>-1</td>\n",
       "      <td>1</td>\n",
       "      <td>2</td>\n",
       "      <td>5.0</td>\n",
       "      <td>1</td>\n",
       "      <td>5</td>\n",
       "      <td>2</td>\n",
       "      <td>5</td>\n",
       "      <td>4</td>\n",
       "      <td>5</td>\n",
       "      <td>...</td>\n",
       "      <td>2.0</td>\n",
       "      <td>3.0</td>\n",
       "      <td>2.0</td>\n",
       "      <td>1.0</td>\n",
       "      <td>1.0</td>\n",
       "      <td>5.0</td>\n",
       "      <td>4.0</td>\n",
       "      <td>3.0</td>\n",
       "      <td>5.0</td>\n",
       "      <td>4.0</td>\n",
       "    </tr>\n",
       "    <tr>\n",
       "      <th>2</th>\n",
       "      <td>-1</td>\n",
       "      <td>3</td>\n",
       "      <td>2</td>\n",
       "      <td>3.0</td>\n",
       "      <td>1</td>\n",
       "      <td>4</td>\n",
       "      <td>1</td>\n",
       "      <td>2</td>\n",
       "      <td>3</td>\n",
       "      <td>5</td>\n",
       "      <td>...</td>\n",
       "      <td>3.0</td>\n",
       "      <td>3.0</td>\n",
       "      <td>1.0</td>\n",
       "      <td>0.0</td>\n",
       "      <td>1.0</td>\n",
       "      <td>4.0</td>\n",
       "      <td>4.0</td>\n",
       "      <td>3.0</td>\n",
       "      <td>5.0</td>\n",
       "      <td>2.0</td>\n",
       "    </tr>\n",
       "    <tr>\n",
       "      <th>3</th>\n",
       "      <td>2</td>\n",
       "      <td>4</td>\n",
       "      <td>2</td>\n",
       "      <td>2.0</td>\n",
       "      <td>4</td>\n",
       "      <td>2</td>\n",
       "      <td>5</td>\n",
       "      <td>2</td>\n",
       "      <td>1</td>\n",
       "      <td>2</td>\n",
       "      <td>...</td>\n",
       "      <td>2.0</td>\n",
       "      <td>2.0</td>\n",
       "      <td>2.0</td>\n",
       "      <td>0.0</td>\n",
       "      <td>1.0</td>\n",
       "      <td>3.0</td>\n",
       "      <td>4.0</td>\n",
       "      <td>2.0</td>\n",
       "      <td>3.0</td>\n",
       "      <td>3.0</td>\n",
       "    </tr>\n",
       "    <tr>\n",
       "      <th>4</th>\n",
       "      <td>-1</td>\n",
       "      <td>3</td>\n",
       "      <td>1</td>\n",
       "      <td>5.0</td>\n",
       "      <td>4</td>\n",
       "      <td>3</td>\n",
       "      <td>4</td>\n",
       "      <td>1</td>\n",
       "      <td>3</td>\n",
       "      <td>2</td>\n",
       "      <td>...</td>\n",
       "      <td>2.0</td>\n",
       "      <td>4.0</td>\n",
       "      <td>2.0</td>\n",
       "      <td>1.0</td>\n",
       "      <td>2.0</td>\n",
       "      <td>3.0</td>\n",
       "      <td>3.0</td>\n",
       "      <td>4.0</td>\n",
       "      <td>6.0</td>\n",
       "      <td>5.0</td>\n",
       "    </tr>\n",
       "  </tbody>\n",
       "</table>\n",
       "<p>5 rows × 85 columns</p>\n",
       "</div>"
      ],
      "text/plain": [
       "   AGER_TYP  ALTERSKATEGORIE_GROB  ANREDE_KZ  CJT_GESAMTTYP  \\\n",
       "0        -1                     2          1            2.0   \n",
       "1        -1                     1          2            5.0   \n",
       "2        -1                     3          2            3.0   \n",
       "3         2                     4          2            2.0   \n",
       "4        -1                     3          1            5.0   \n",
       "\n",
       "   FINANZ_MINIMALIST  FINANZ_SPARER  FINANZ_VORSORGER  FINANZ_ANLEGER  \\\n",
       "0                  3              4                 3               5   \n",
       "1                  1              5                 2               5   \n",
       "2                  1              4                 1               2   \n",
       "3                  4              2                 5               2   \n",
       "4                  4              3                 4               1   \n",
       "\n",
       "   FINANZ_UNAUFFAELLIGER  FINANZ_HAUSBAUER    ...     PLZ8_ANTG1  PLZ8_ANTG2  \\\n",
       "0                      5                 3    ...            NaN         NaN   \n",
       "1                      4                 5    ...            2.0         3.0   \n",
       "2                      3                 5    ...            3.0         3.0   \n",
       "3                      1                 2    ...            2.0         2.0   \n",
       "4                      3                 2    ...            2.0         4.0   \n",
       "\n",
       "   PLZ8_ANTG3  PLZ8_ANTG4  PLZ8_BAUMAX  PLZ8_HHZ  PLZ8_GBZ  ARBEIT  \\\n",
       "0         NaN         NaN          NaN       NaN       NaN     NaN   \n",
       "1         2.0         1.0          1.0       5.0       4.0     3.0   \n",
       "2         1.0         0.0          1.0       4.0       4.0     3.0   \n",
       "3         2.0         0.0          1.0       3.0       4.0     2.0   \n",
       "4         2.0         1.0          2.0       3.0       3.0     4.0   \n",
       "\n",
       "   ORTSGR_KLS9  RELAT_AB  \n",
       "0          NaN       NaN  \n",
       "1          5.0       4.0  \n",
       "2          5.0       2.0  \n",
       "3          3.0       3.0  \n",
       "4          6.0       5.0  \n",
       "\n",
       "[5 rows x 85 columns]"
      ]
     },
     "execution_count": 5,
     "metadata": {},
     "output_type": "execute_result"
    }
   ],
   "source": [
    "# Check the structure of the data after it's loaded (e.g. print the number of\n",
    "# rows and columns, print the first few rows).\n",
    "azdias.head()"
   ]
  },
  {
   "cell_type": "code",
   "execution_count": 6,
   "metadata": {},
   "outputs": [
    {
     "data": {
      "text/plain": [
       "(891221, 85)"
      ]
     },
     "execution_count": 6,
     "metadata": {},
     "output_type": "execute_result"
    }
   ],
   "source": [
    "azdias.shape"
   ]
  },
  {
   "cell_type": "code",
   "execution_count": 7,
   "metadata": {},
   "outputs": [
    {
     "data": {
      "text/html": [
       "<div>\n",
       "<style scoped>\n",
       "    .dataframe tbody tr th:only-of-type {\n",
       "        vertical-align: middle;\n",
       "    }\n",
       "\n",
       "    .dataframe tbody tr th {\n",
       "        vertical-align: top;\n",
       "    }\n",
       "\n",
       "    .dataframe thead th {\n",
       "        text-align: right;\n",
       "    }\n",
       "</style>\n",
       "<table border=\"1\" class=\"dataframe\">\n",
       "  <thead>\n",
       "    <tr style=\"text-align: right;\">\n",
       "      <th></th>\n",
       "      <th>AGER_TYP</th>\n",
       "      <th>ALTERSKATEGORIE_GROB</th>\n",
       "      <th>ANREDE_KZ</th>\n",
       "      <th>CJT_GESAMTTYP</th>\n",
       "      <th>FINANZ_MINIMALIST</th>\n",
       "      <th>FINANZ_SPARER</th>\n",
       "      <th>FINANZ_VORSORGER</th>\n",
       "      <th>FINANZ_ANLEGER</th>\n",
       "      <th>FINANZ_UNAUFFAELLIGER</th>\n",
       "      <th>FINANZ_HAUSBAUER</th>\n",
       "      <th>...</th>\n",
       "      <th>PLZ8_ANTG1</th>\n",
       "      <th>PLZ8_ANTG2</th>\n",
       "      <th>PLZ8_ANTG3</th>\n",
       "      <th>PLZ8_ANTG4</th>\n",
       "      <th>PLZ8_BAUMAX</th>\n",
       "      <th>PLZ8_HHZ</th>\n",
       "      <th>PLZ8_GBZ</th>\n",
       "      <th>ARBEIT</th>\n",
       "      <th>ORTSGR_KLS9</th>\n",
       "      <th>RELAT_AB</th>\n",
       "    </tr>\n",
       "  </thead>\n",
       "  <tbody>\n",
       "    <tr>\n",
       "      <th>count</th>\n",
       "      <td>891221.000000</td>\n",
       "      <td>891221.000000</td>\n",
       "      <td>891221.000000</td>\n",
       "      <td>886367.000000</td>\n",
       "      <td>891221.000000</td>\n",
       "      <td>891221.000000</td>\n",
       "      <td>891221.000000</td>\n",
       "      <td>891221.000000</td>\n",
       "      <td>891221.000000</td>\n",
       "      <td>891221.000000</td>\n",
       "      <td>...</td>\n",
       "      <td>774706.000000</td>\n",
       "      <td>774706.000000</td>\n",
       "      <td>774706.000000</td>\n",
       "      <td>774706.000000</td>\n",
       "      <td>774706.000000</td>\n",
       "      <td>774706.000000</td>\n",
       "      <td>774706.000000</td>\n",
       "      <td>794005.000000</td>\n",
       "      <td>794005.000000</td>\n",
       "      <td>794005.00000</td>\n",
       "    </tr>\n",
       "    <tr>\n",
       "      <th>mean</th>\n",
       "      <td>-0.358435</td>\n",
       "      <td>2.777398</td>\n",
       "      <td>1.522098</td>\n",
       "      <td>3.632838</td>\n",
       "      <td>3.074528</td>\n",
       "      <td>2.821039</td>\n",
       "      <td>3.401106</td>\n",
       "      <td>3.033328</td>\n",
       "      <td>2.874167</td>\n",
       "      <td>3.075121</td>\n",
       "      <td>...</td>\n",
       "      <td>2.253330</td>\n",
       "      <td>2.801858</td>\n",
       "      <td>1.595426</td>\n",
       "      <td>0.699166</td>\n",
       "      <td>1.943913</td>\n",
       "      <td>3.612821</td>\n",
       "      <td>3.381087</td>\n",
       "      <td>3.167854</td>\n",
       "      <td>5.293002</td>\n",
       "      <td>3.07222</td>\n",
       "    </tr>\n",
       "    <tr>\n",
       "      <th>std</th>\n",
       "      <td>1.198724</td>\n",
       "      <td>1.068775</td>\n",
       "      <td>0.499512</td>\n",
       "      <td>1.595021</td>\n",
       "      <td>1.321055</td>\n",
       "      <td>1.464749</td>\n",
       "      <td>1.322134</td>\n",
       "      <td>1.529603</td>\n",
       "      <td>1.486731</td>\n",
       "      <td>1.353248</td>\n",
       "      <td>...</td>\n",
       "      <td>0.972008</td>\n",
       "      <td>0.920309</td>\n",
       "      <td>0.986736</td>\n",
       "      <td>0.727137</td>\n",
       "      <td>1.459654</td>\n",
       "      <td>0.973967</td>\n",
       "      <td>1.111598</td>\n",
       "      <td>1.002376</td>\n",
       "      <td>2.303739</td>\n",
       "      <td>1.36298</td>\n",
       "    </tr>\n",
       "    <tr>\n",
       "      <th>min</th>\n",
       "      <td>-1.000000</td>\n",
       "      <td>1.000000</td>\n",
       "      <td>1.000000</td>\n",
       "      <td>1.000000</td>\n",
       "      <td>1.000000</td>\n",
       "      <td>1.000000</td>\n",
       "      <td>1.000000</td>\n",
       "      <td>1.000000</td>\n",
       "      <td>1.000000</td>\n",
       "      <td>1.000000</td>\n",
       "      <td>...</td>\n",
       "      <td>0.000000</td>\n",
       "      <td>0.000000</td>\n",
       "      <td>0.000000</td>\n",
       "      <td>0.000000</td>\n",
       "      <td>1.000000</td>\n",
       "      <td>1.000000</td>\n",
       "      <td>1.000000</td>\n",
       "      <td>1.000000</td>\n",
       "      <td>0.000000</td>\n",
       "      <td>1.00000</td>\n",
       "    </tr>\n",
       "    <tr>\n",
       "      <th>25%</th>\n",
       "      <td>-1.000000</td>\n",
       "      <td>2.000000</td>\n",
       "      <td>1.000000</td>\n",
       "      <td>2.000000</td>\n",
       "      <td>2.000000</td>\n",
       "      <td>1.000000</td>\n",
       "      <td>3.000000</td>\n",
       "      <td>2.000000</td>\n",
       "      <td>2.000000</td>\n",
       "      <td>2.000000</td>\n",
       "      <td>...</td>\n",
       "      <td>1.000000</td>\n",
       "      <td>2.000000</td>\n",
       "      <td>1.000000</td>\n",
       "      <td>0.000000</td>\n",
       "      <td>1.000000</td>\n",
       "      <td>3.000000</td>\n",
       "      <td>3.000000</td>\n",
       "      <td>3.000000</td>\n",
       "      <td>4.000000</td>\n",
       "      <td>2.00000</td>\n",
       "    </tr>\n",
       "    <tr>\n",
       "      <th>50%</th>\n",
       "      <td>-1.000000</td>\n",
       "      <td>3.000000</td>\n",
       "      <td>2.000000</td>\n",
       "      <td>4.000000</td>\n",
       "      <td>3.000000</td>\n",
       "      <td>3.000000</td>\n",
       "      <td>3.000000</td>\n",
       "      <td>3.000000</td>\n",
       "      <td>3.000000</td>\n",
       "      <td>3.000000</td>\n",
       "      <td>...</td>\n",
       "      <td>2.000000</td>\n",
       "      <td>3.000000</td>\n",
       "      <td>2.000000</td>\n",
       "      <td>1.000000</td>\n",
       "      <td>1.000000</td>\n",
       "      <td>4.000000</td>\n",
       "      <td>3.000000</td>\n",
       "      <td>3.000000</td>\n",
       "      <td>5.000000</td>\n",
       "      <td>3.00000</td>\n",
       "    </tr>\n",
       "    <tr>\n",
       "      <th>75%</th>\n",
       "      <td>-1.000000</td>\n",
       "      <td>4.000000</td>\n",
       "      <td>2.000000</td>\n",
       "      <td>5.000000</td>\n",
       "      <td>4.000000</td>\n",
       "      <td>4.000000</td>\n",
       "      <td>5.000000</td>\n",
       "      <td>5.000000</td>\n",
       "      <td>4.000000</td>\n",
       "      <td>4.000000</td>\n",
       "      <td>...</td>\n",
       "      <td>3.000000</td>\n",
       "      <td>3.000000</td>\n",
       "      <td>2.000000</td>\n",
       "      <td>1.000000</td>\n",
       "      <td>3.000000</td>\n",
       "      <td>4.000000</td>\n",
       "      <td>4.000000</td>\n",
       "      <td>4.000000</td>\n",
       "      <td>7.000000</td>\n",
       "      <td>4.00000</td>\n",
       "    </tr>\n",
       "    <tr>\n",
       "      <th>max</th>\n",
       "      <td>3.000000</td>\n",
       "      <td>9.000000</td>\n",
       "      <td>2.000000</td>\n",
       "      <td>6.000000</td>\n",
       "      <td>5.000000</td>\n",
       "      <td>5.000000</td>\n",
       "      <td>5.000000</td>\n",
       "      <td>5.000000</td>\n",
       "      <td>5.000000</td>\n",
       "      <td>5.000000</td>\n",
       "      <td>...</td>\n",
       "      <td>4.000000</td>\n",
       "      <td>4.000000</td>\n",
       "      <td>3.000000</td>\n",
       "      <td>2.000000</td>\n",
       "      <td>5.000000</td>\n",
       "      <td>5.000000</td>\n",
       "      <td>5.000000</td>\n",
       "      <td>9.000000</td>\n",
       "      <td>9.000000</td>\n",
       "      <td>9.00000</td>\n",
       "    </tr>\n",
       "  </tbody>\n",
       "</table>\n",
       "<p>8 rows × 81 columns</p>\n",
       "</div>"
      ],
      "text/plain": [
       "            AGER_TYP  ALTERSKATEGORIE_GROB      ANREDE_KZ  CJT_GESAMTTYP  \\\n",
       "count  891221.000000         891221.000000  891221.000000  886367.000000   \n",
       "mean       -0.358435              2.777398       1.522098       3.632838   \n",
       "std         1.198724              1.068775       0.499512       1.595021   \n",
       "min        -1.000000              1.000000       1.000000       1.000000   \n",
       "25%        -1.000000              2.000000       1.000000       2.000000   \n",
       "50%        -1.000000              3.000000       2.000000       4.000000   \n",
       "75%        -1.000000              4.000000       2.000000       5.000000   \n",
       "max         3.000000              9.000000       2.000000       6.000000   \n",
       "\n",
       "       FINANZ_MINIMALIST  FINANZ_SPARER  FINANZ_VORSORGER  FINANZ_ANLEGER  \\\n",
       "count      891221.000000  891221.000000     891221.000000   891221.000000   \n",
       "mean            3.074528       2.821039          3.401106        3.033328   \n",
       "std             1.321055       1.464749          1.322134        1.529603   \n",
       "min             1.000000       1.000000          1.000000        1.000000   \n",
       "25%             2.000000       1.000000          3.000000        2.000000   \n",
       "50%             3.000000       3.000000          3.000000        3.000000   \n",
       "75%             4.000000       4.000000          5.000000        5.000000   \n",
       "max             5.000000       5.000000          5.000000        5.000000   \n",
       "\n",
       "       FINANZ_UNAUFFAELLIGER  FINANZ_HAUSBAUER      ...          PLZ8_ANTG1  \\\n",
       "count          891221.000000     891221.000000      ...       774706.000000   \n",
       "mean                2.874167          3.075121      ...            2.253330   \n",
       "std                 1.486731          1.353248      ...            0.972008   \n",
       "min                 1.000000          1.000000      ...            0.000000   \n",
       "25%                 2.000000          2.000000      ...            1.000000   \n",
       "50%                 3.000000          3.000000      ...            2.000000   \n",
       "75%                 4.000000          4.000000      ...            3.000000   \n",
       "max                 5.000000          5.000000      ...            4.000000   \n",
       "\n",
       "          PLZ8_ANTG2     PLZ8_ANTG3     PLZ8_ANTG4    PLZ8_BAUMAX  \\\n",
       "count  774706.000000  774706.000000  774706.000000  774706.000000   \n",
       "mean        2.801858       1.595426       0.699166       1.943913   \n",
       "std         0.920309       0.986736       0.727137       1.459654   \n",
       "min         0.000000       0.000000       0.000000       1.000000   \n",
       "25%         2.000000       1.000000       0.000000       1.000000   \n",
       "50%         3.000000       2.000000       1.000000       1.000000   \n",
       "75%         3.000000       2.000000       1.000000       3.000000   \n",
       "max         4.000000       3.000000       2.000000       5.000000   \n",
       "\n",
       "            PLZ8_HHZ       PLZ8_GBZ         ARBEIT    ORTSGR_KLS9  \\\n",
       "count  774706.000000  774706.000000  794005.000000  794005.000000   \n",
       "mean        3.612821       3.381087       3.167854       5.293002   \n",
       "std         0.973967       1.111598       1.002376       2.303739   \n",
       "min         1.000000       1.000000       1.000000       0.000000   \n",
       "25%         3.000000       3.000000       3.000000       4.000000   \n",
       "50%         4.000000       3.000000       3.000000       5.000000   \n",
       "75%         4.000000       4.000000       4.000000       7.000000   \n",
       "max         5.000000       5.000000       9.000000       9.000000   \n",
       "\n",
       "           RELAT_AB  \n",
       "count  794005.00000  \n",
       "mean        3.07222  \n",
       "std         1.36298  \n",
       "min         1.00000  \n",
       "25%         2.00000  \n",
       "50%         3.00000  \n",
       "75%         4.00000  \n",
       "max         9.00000  \n",
       "\n",
       "[8 rows x 81 columns]"
      ]
     },
     "execution_count": 7,
     "metadata": {},
     "output_type": "execute_result"
    }
   ],
   "source": [
    "azdias.describe()"
   ]
  },
  {
   "cell_type": "code",
   "execution_count": 8,
   "metadata": {},
   "outputs": [
    {
     "data": {
      "text/html": [
       "<div>\n",
       "<style scoped>\n",
       "    .dataframe tbody tr th:only-of-type {\n",
       "        vertical-align: middle;\n",
       "    }\n",
       "\n",
       "    .dataframe tbody tr th {\n",
       "        vertical-align: top;\n",
       "    }\n",
       "\n",
       "    .dataframe thead th {\n",
       "        text-align: right;\n",
       "    }\n",
       "</style>\n",
       "<table border=\"1\" class=\"dataframe\">\n",
       "  <thead>\n",
       "    <tr style=\"text-align: right;\">\n",
       "      <th></th>\n",
       "      <th>attribute</th>\n",
       "      <th>information_level</th>\n",
       "      <th>type</th>\n",
       "      <th>missing_or_unknown</th>\n",
       "    </tr>\n",
       "  </thead>\n",
       "  <tbody>\n",
       "    <tr>\n",
       "      <th>0</th>\n",
       "      <td>AGER_TYP</td>\n",
       "      <td>person</td>\n",
       "      <td>categorical</td>\n",
       "      <td>[-1,0]</td>\n",
       "    </tr>\n",
       "    <tr>\n",
       "      <th>1</th>\n",
       "      <td>ALTERSKATEGORIE_GROB</td>\n",
       "      <td>person</td>\n",
       "      <td>ordinal</td>\n",
       "      <td>[-1,0,9]</td>\n",
       "    </tr>\n",
       "    <tr>\n",
       "      <th>2</th>\n",
       "      <td>ANREDE_KZ</td>\n",
       "      <td>person</td>\n",
       "      <td>categorical</td>\n",
       "      <td>[-1,0]</td>\n",
       "    </tr>\n",
       "    <tr>\n",
       "      <th>3</th>\n",
       "      <td>CJT_GESAMTTYP</td>\n",
       "      <td>person</td>\n",
       "      <td>categorical</td>\n",
       "      <td>[0]</td>\n",
       "    </tr>\n",
       "    <tr>\n",
       "      <th>4</th>\n",
       "      <td>FINANZ_MINIMALIST</td>\n",
       "      <td>person</td>\n",
       "      <td>ordinal</td>\n",
       "      <td>[-1]</td>\n",
       "    </tr>\n",
       "  </tbody>\n",
       "</table>\n",
       "</div>"
      ],
      "text/plain": [
       "              attribute information_level         type missing_or_unknown\n",
       "0              AGER_TYP            person  categorical             [-1,0]\n",
       "1  ALTERSKATEGORIE_GROB            person      ordinal           [-1,0,9]\n",
       "2             ANREDE_KZ            person  categorical             [-1,0]\n",
       "3         CJT_GESAMTTYP            person  categorical                [0]\n",
       "4     FINANZ_MINIMALIST            person      ordinal               [-1]"
      ]
     },
     "execution_count": 8,
     "metadata": {},
     "output_type": "execute_result"
    }
   ],
   "source": [
    "feat_info.head()"
   ]
  },
  {
   "cell_type": "code",
   "execution_count": 9,
   "metadata": {},
   "outputs": [
    {
     "data": {
      "text/html": [
       "<div>\n",
       "<style scoped>\n",
       "    .dataframe tbody tr th:only-of-type {\n",
       "        vertical-align: middle;\n",
       "    }\n",
       "\n",
       "    .dataframe tbody tr th {\n",
       "        vertical-align: top;\n",
       "    }\n",
       "\n",
       "    .dataframe thead th {\n",
       "        text-align: right;\n",
       "    }\n",
       "</style>\n",
       "<table border=\"1\" class=\"dataframe\">\n",
       "  <thead>\n",
       "    <tr style=\"text-align: right;\">\n",
       "      <th></th>\n",
       "      <th>attribute</th>\n",
       "      <th>information_level</th>\n",
       "      <th>type</th>\n",
       "      <th>missing_or_unknown</th>\n",
       "    </tr>\n",
       "  </thead>\n",
       "  <tbody>\n",
       "    <tr>\n",
       "      <th>count</th>\n",
       "      <td>85</td>\n",
       "      <td>85</td>\n",
       "      <td>85</td>\n",
       "      <td>85</td>\n",
       "    </tr>\n",
       "    <tr>\n",
       "      <th>unique</th>\n",
       "      <td>85</td>\n",
       "      <td>9</td>\n",
       "      <td>5</td>\n",
       "      <td>9</td>\n",
       "    </tr>\n",
       "    <tr>\n",
       "      <th>top</th>\n",
       "      <td>CAMEO_INTL_2015</td>\n",
       "      <td>person</td>\n",
       "      <td>ordinal</td>\n",
       "      <td>[-1]</td>\n",
       "    </tr>\n",
       "    <tr>\n",
       "      <th>freq</th>\n",
       "      <td>1</td>\n",
       "      <td>43</td>\n",
       "      <td>49</td>\n",
       "      <td>26</td>\n",
       "    </tr>\n",
       "  </tbody>\n",
       "</table>\n",
       "</div>"
      ],
      "text/plain": [
       "              attribute information_level     type missing_or_unknown\n",
       "count                85                85       85                 85\n",
       "unique               85                 9        5                  9\n",
       "top     CAMEO_INTL_2015            person  ordinal               [-1]\n",
       "freq                  1                43       49                 26"
      ]
     },
     "execution_count": 9,
     "metadata": {},
     "output_type": "execute_result"
    }
   ],
   "source": [
    "feat_info.describe()"
   ]
  },
  {
   "cell_type": "markdown",
   "metadata": {},
   "source": [
    "> **Tip**: Add additional cells to keep everything in reasonably-sized chunks! Keyboard shortcut `esc --> a` (press escape to enter command mode, then press the 'A' key) adds a new cell before the active cell, and `esc --> b` adds a new cell after the active cell. If you need to convert an active cell to a markdown cell, use `esc --> m` and to convert to a code cell, use `esc --> y`. \n",
    "\n",
    "## Step 1: Preprocessing\n",
    "\n",
    "### Step 1.1: Assess Missing Data\n",
    "\n",
    "The feature summary file contains a summary of properties for each demographics data column. You will use this file to help you make cleaning decisions during this stage of the project. First of all, you should assess the demographics data in terms of missing data. Pay attention to the following points as you perform your analysis, and take notes on what you observe. Make sure that you fill in the **Discussion** cell with your findings and decisions at the end of each step that has one!\n",
    "\n",
    "#### Step 1.1.1: Convert Missing Value Codes to NaNs\n",
    "The fourth column of the feature attributes summary (loaded in above as `feat_info`) documents the codes from the data dictionary that indicate missing or unknown data. While the file encodes this as a list (e.g. `[-1,0]`), this will get read in as a string object. You'll need to do a little bit of parsing to make use of it to identify and clean the data. Convert data that matches a 'missing' or 'unknown' value code into a numpy NaN value. You might want to see how much data takes on a 'missing' or 'unknown' code, and how much data is naturally missing, as a point of interest.\n",
    "\n",
    "**As one more reminder, you are encouraged to add additional cells to break up your analysis into manageable chunks.**"
   ]
  },
  {
   "cell_type": "code",
   "execution_count": 10,
   "metadata": {},
   "outputs": [],
   "source": [
    "# Identify missing or unknown data values and convert them to NaNs. \n",
    "for f in range(len(feat_info)): \n",
    "    missing_or_unknown_values = feat_info.iloc[f]['missing_or_unknown'] \n",
    "    missing_or_unknown_values = missing_or_unknown_values.strip(']') \n",
    "    missing_or_unknown_values = missing_or_unknown_values.strip('[') \n",
    "    missing_or_unknown_values = missing_or_unknown_values.split(sep=',') \n",
    "    missing_or_unknown_values = [int(value) if (value!='' and value!='X' and value!='XX') else value for value in missing_or_unknown_values] \n",
    "    if missing_or_unknown_values != ['']:\n",
    "        azdias = azdias.replace({feat_info.iloc[f]['attribute']: missing_or_unknown_values}, np.nan)"
   ]
  },
  {
   "cell_type": "markdown",
   "metadata": {},
   "source": [
    "#### Step 1.1.2: Assess Missing Data in Each Column\n",
    "\n",
    "How much missing data is present in each column? There are a few columns that are outliers in terms of the proportion of values that are missing. You will want to use matplotlib's [`hist()`](https://matplotlib.org/api/_as_gen/matplotlib.pyplot.hist.html) function to visualize the distribution of missing value counts to find these columns. Identify and document these columns. While some of these columns might have justifications for keeping or re-encoding the data, for this project you should just remove them from the dataframe. (Feel free to make remarks about these outlier columns in the discussion, however!)\n",
    "\n",
    "For the remaining features, are there any patterns in which columns have, or share, missing data?"
   ]
  },
  {
   "cell_type": "code",
   "execution_count": 11,
   "metadata": {},
   "outputs": [],
   "source": [
    "# Calculate the percentage of missing data for each column\n",
    "percent_missing_per_column =(azdias.isnull().sum()/len(azdias))*100"
   ]
  },
  {
   "cell_type": "code",
   "execution_count": 12,
   "metadata": {},
   "outputs": [
    {
     "data": {
      "image/png": "[encoded data removed]",
      "text/plain": [
       "<matplotlib.figure.Figure at 0x7f644da2dac8>"
      ]
     },
     "metadata": {
      "needs_background": "light"
     },
     "output_type": "display_data"
    }
   ],
   "source": [
    "# Plot the counts of columns by percentage missing data\n",
    "plt.hist(percent_missing_per_column, bins=100)\n",
    "plt.ylabel('Column Count')\n",
    "plt.xlabel('Missing Value Percentage')\n",
    "plt.show()"
   ]
  },
  {
   "cell_type": "code",
   "execution_count": 13,
   "metadata": {},
   "outputs": [
    {
     "data": {
      "text/html": [
       "<div>\n",
       "<style scoped>\n",
       "    .dataframe tbody tr th:only-of-type {\n",
       "        vertical-align: middle;\n",
       "    }\n",
       "\n",
       "    .dataframe tbody tr th {\n",
       "        vertical-align: top;\n",
       "    }\n",
       "\n",
       "    .dataframe thead th {\n",
       "        text-align: right;\n",
       "    }\n",
       "</style>\n",
       "<table border=\"1\" class=\"dataframe\">\n",
       "  <thead>\n",
       "    <tr style=\"text-align: right;\">\n",
       "      <th></th>\n",
       "      <th>Column_name</th>\n",
       "      <th>Count_missing_value</th>\n",
       "    </tr>\n",
       "  </thead>\n",
       "  <tbody>\n",
       "    <tr>\n",
       "      <th>0</th>\n",
       "      <td>AGER_TYP</td>\n",
       "      <td>685843</td>\n",
       "    </tr>\n",
       "    <tr>\n",
       "      <th>11</th>\n",
       "      <td>GEBURTSJAHR</td>\n",
       "      <td>392318</td>\n",
       "    </tr>\n",
       "    <tr>\n",
       "      <th>40</th>\n",
       "      <td>TITEL_KZ</td>\n",
       "      <td>889061</td>\n",
       "    </tr>\n",
       "    <tr>\n",
       "      <th>43</th>\n",
       "      <td>ALTER_HH</td>\n",
       "      <td>310267</td>\n",
       "    </tr>\n",
       "    <tr>\n",
       "      <th>47</th>\n",
       "      <td>KK_KUNDENTYP</td>\n",
       "      <td>584612</td>\n",
       "    </tr>\n",
       "    <tr>\n",
       "      <th>64</th>\n",
       "      <td>KBA05_BAUMAX</td>\n",
       "      <td>476524</td>\n",
       "    </tr>\n",
       "  </tbody>\n",
       "</table>\n",
       "</div>"
      ],
      "text/plain": [
       "     Column_name  Count_missing_value\n",
       "0       AGER_TYP               685843\n",
       "11   GEBURTSJAHR               392318\n",
       "40      TITEL_KZ               889061\n",
       "43      ALTER_HH               310267\n",
       "47  KK_KUNDENTYP               584612\n",
       "64  KBA05_BAUMAX               476524"
      ]
     },
     "execution_count": 13,
     "metadata": {},
     "output_type": "execute_result"
    }
   ],
   "source": [
    "# Identify the columns with > 20% missing data\n",
    "missing_data = pd.DataFrame(azdias.isnull().sum().reset_index())\n",
    "missing_data.columns = ['Column_name','Count_missing_value']\n",
    "twenty_percent = (missing_data[missing_data['Count_missing_value'] / azdias.shape[0] > .20])\n",
    "twenty_percent"
   ]
  },
  {
   "cell_type": "code",
   "execution_count": 14,
   "metadata": {},
   "outputs": [
    {
     "name": "stdout",
     "output_type": "stream",
     "text": [
      "Columns to remove:  ['AGER_TYP', 'GEBURTSJAHR', 'TITEL_KZ', 'ALTER_HH', 'KK_KUNDENTYP', 'KBA05_BAUMAX']\n"
     ]
    }
   ],
   "source": [
    "# Create list of the outlier columns\n",
    "outliers_to_remove = []\n",
    "outliers_to_remove = twenty_percent['Column_name'].values.tolist()\n",
    "        \n",
    "print(\"Columns to remove: \", outliers_to_remove)"
   ]
  },
  {
   "cell_type": "code",
   "execution_count": 15,
   "metadata": {},
   "outputs": [
    {
     "data": {
      "text/plain": [
       "TITEL_KZ                 889061\n",
       "AGER_TYP                 685843\n",
       "KK_KUNDENTYP             584612\n",
       "KBA05_BAUMAX             476524\n",
       "GEBURTSJAHR              392318\n",
       "ALTER_HH                 310267\n",
       "REGIOTYP                 158064\n",
       "KKK                      158064\n",
       "W_KEIT_KIND_HH           147988\n",
       "KBA05_ANTG4              133324\n",
       "KBA05_GBZ                133324\n",
       "MOBI_REGIO               133324\n",
       "KBA05_ANTG1              133324\n",
       "KBA05_ANTG2              133324\n",
       "KBA05_ANTG3              133324\n",
       "PLZ8_GBZ                 116515\n",
       "PLZ8_HHZ                 116515\n",
       "PLZ8_BAUMAX              116515\n",
       "PLZ8_ANTG4               116515\n",
       "PLZ8_ANTG1               116515\n",
       "PLZ8_ANTG3               116515\n",
       "PLZ8_ANTG2               116515\n",
       "SHOPPER_TYP              111196\n",
       "VERS_TYP                 111196\n",
       "HEALTH_TYP               111196\n",
       "NATIONALITAET_KZ         108315\n",
       "PRAEGENDE_JUGENDJAHRE    108164\n",
       "KBA13_ANZAHL_PKW         105800\n",
       "ANZ_HAUSHALTE_AKTIV       99611\n",
       "CAMEO_INTL_2015           99352\n",
       "                          ...  \n",
       "RETOURTYP_BK_S             4854\n",
       "ONLINE_AFFINITAET          4854\n",
       "LP_STATUS_FEIN             4854\n",
       "LP_STATUS_GROB             4854\n",
       "GFK_URLAUBERTYP            4854\n",
       "ALTERSKATEGORIE_GROB       2881\n",
       "FINANZTYP                     0\n",
       "GREEN_AVANTGARDE              0\n",
       "FINANZ_HAUSBAUER              0\n",
       "FINANZ_UNAUFFAELLIGER         0\n",
       "FINANZ_ANLEGER                0\n",
       "FINANZ_SPARER                 0\n",
       "FINANZ_MINIMALIST             0\n",
       "ANREDE_KZ                     0\n",
       "FINANZ_VORSORGER              0\n",
       "SEMIO_FAM                     0\n",
       "SEMIO_SOZ                     0\n",
       "SEMIO_REL                     0\n",
       "SEMIO_MAT                     0\n",
       "SEMIO_VERT                    0\n",
       "SEMIO_LUST                    0\n",
       "SEMIO_ERL                     0\n",
       "SEMIO_KULT                    0\n",
       "SEMIO_RAT                     0\n",
       "SEMIO_KRIT                    0\n",
       "SEMIO_DOM                     0\n",
       "SEMIO_KAEM                    0\n",
       "SEMIO_PFLICHT                 0\n",
       "SEMIO_TRADV                   0\n",
       "ZABEOTYP                      0\n",
       "Length: 85, dtype: int64"
      ]
     },
     "execution_count": 15,
     "metadata": {},
     "output_type": "execute_result"
    }
   ],
   "source": [
    "# Perform an assessment of how much missing data there is in each column of the\n",
    "# dataset.\n",
    "azdias.isna().sum().sort_values(ascending=False)"
   ]
  },
  {
   "cell_type": "code",
   "execution_count": 16,
   "metadata": {},
   "outputs": [],
   "source": [
    "# Investigate patterns in the amount of missing data in each column.\n",
    "# function to extract columns containing NaN values into it's own dataframe for plotting\n",
    "def extract_nan_columns(df):\n",
    "    columns_with_nan = azdias.isnull().sum()[azdias.isnull().sum() > 0]\n",
    "    nan_dict = {'sum': columns_with_nan.values, 'percent': np.round(columns_with_nan.values * 100 / azdias.shape[0], 2)}\n",
    "    azdias_nan = pd.DataFrame(data = nan_dict, index = columns_with_nan.index)\n",
    "    azdias_nan.sort_values(by='percent', ascending=False, inplace = True)\n",
    "    return azdias_nan"
   ]
  },
  {
   "cell_type": "code",
   "execution_count": 17,
   "metadata": {},
   "outputs": [
    {
     "name": "stdout",
     "output_type": "stream",
     "text": [
      "There are 61 columns in the data that contain missing values\n"
     ]
    }
   ],
   "source": [
    "# Extract columns containing NaN values into it's own dataframe for plotting\n",
    "azdias_nan = extract_nan_columns(azdias)\n",
    "print(\"There are {} columns in the data that contain missing values\".format(azdias_nan.shape[0]))"
   ]
  },
  {
   "cell_type": "code",
   "execution_count": 18,
   "metadata": {},
   "outputs": [
    {
     "data": {
      "image/png": "[encoded data removed]",
      "text/plain": [
       "<matplotlib.figure.Figure at 0x7f6440f34160>"
      ]
     },
     "metadata": {
      "needs_background": "light"
     },
     "output_type": "display_data"
    }
   ],
   "source": [
    "# Plot coloumns with NaN values\n",
    "azdias_nan.percent.plot.bar(figsize=(18, 8));"
   ]
  },
  {
   "cell_type": "code",
   "execution_count": 19,
   "metadata": {},
   "outputs": [],
   "source": [
    "# Remove the outlier columns from the dataset. (You'll perform other data\n",
    "# engineering tasks such as re-encoding and imputation later.)\n",
    "azdias_backup = azdias.copy()\n",
    "azdias = azdias.drop(outliers_to_remove, axis=1)"
   ]
  },
  {
   "cell_type": "code",
   "execution_count": 20,
   "metadata": {},
   "outputs": [
    {
     "name": "stdout",
     "output_type": "stream",
     "text": [
      "  attribute information_level         type\n",
      "0  AGER_TYP            person  categorical\n",
      "\n",
      "\n",
      "      attribute information_level     type\n",
      "11  GEBURTSJAHR            person  numeric\n",
      "\n",
      "\n",
      "   attribute information_level         type\n",
      "40  TITEL_KZ            person  categorical\n",
      "\n",
      "\n",
      "   attribute information_level      type\n",
      "43  ALTER_HH         household  interval\n",
      "\n",
      "\n",
      "       attribute information_level         type\n",
      "47  KK_KUNDENTYP         household  categorical\n",
      "\n",
      "\n",
      "       attribute information_level   type\n",
      "64  KBA05_BAUMAX     microcell_rr3  mixed\n",
      "\n",
      "\n"
     ]
    }
   ],
   "source": [
    "for label in outliers_to_remove:\n",
    "    print(feat_info[feat_info['attribute'] == label][['attribute', 'information_level', 'type']])\n",
    "    print('\\n')"
   ]
  },
  {
   "cell_type": "code",
   "execution_count": 21,
   "metadata": {},
   "outputs": [
    {
     "name": "stdout",
     "output_type": "stream",
     "text": [
      "AGER_TYP\n",
      "Int64Index([0], dtype='int64')\n",
      "GEBURTSJAHR\n",
      "Int64Index([11], dtype='int64')\n",
      "TITEL_KZ\n",
      "Int64Index([40], dtype='int64')\n",
      "ALTER_HH\n",
      "Int64Index([43], dtype='int64')\n",
      "KK_KUNDENTYP\n",
      "Int64Index([47], dtype='int64')\n",
      "KBA05_BAUMAX\n",
      "Int64Index([64], dtype='int64')\n"
     ]
    },
    {
     "data": {
      "text/plain": [
       "(79, 4)"
      ]
     },
     "execution_count": 21,
     "metadata": {},
     "output_type": "execute_result"
    }
   ],
   "source": [
    "# Create backup copy of the feat_info dataset.\n",
    "feat_info_backup = feat_info.copy()\n",
    "\n",
    "# Remove the outlier columns for dropped feature columns\n",
    "for x in outliers_to_remove:\n",
    "    print(x)\n",
    "    i = feat_info[((feat_info.attribute == x))].index\n",
    "    feat_info.drop(i, inplace=True)\n",
    "    print(i)\n",
    "\n",
    "feat_info.shape"
   ]
  },
  {
   "cell_type": "code",
   "execution_count": 22,
   "metadata": {},
   "outputs": [
    {
     "data": {
      "text/plain": [
       "(891221, 79)"
      ]
     },
     "execution_count": 22,
     "metadata": {},
     "output_type": "execute_result"
    }
   ],
   "source": [
    "# Confirm columns removed - We should now have 79 columns\n",
    "azdias.shape"
   ]
  },
  {
   "cell_type": "code",
   "execution_count": 23,
   "metadata": {},
   "outputs": [
    {
     "data": {
      "text/plain": [
       "KKK                      158064\n",
       "REGIOTYP                 158064\n",
       "W_KEIT_KIND_HH           147988\n",
       "MOBI_REGIO               133324\n",
       "KBA05_ANTG4              133324\n",
       "KBA05_ANTG3              133324\n",
       "KBA05_ANTG2              133324\n",
       "KBA05_ANTG1              133324\n",
       "KBA05_GBZ                133324\n",
       "PLZ8_ANTG2               116515\n",
       "PLZ8_ANTG1               116515\n",
       "PLZ8_ANTG3               116515\n",
       "PLZ8_ANTG4               116515\n",
       "PLZ8_BAUMAX              116515\n",
       "PLZ8_HHZ                 116515\n",
       "PLZ8_GBZ                 116515\n",
       "HEALTH_TYP               111196\n",
       "SHOPPER_TYP              111196\n",
       "VERS_TYP                 111196\n",
       "NATIONALITAET_KZ         108315\n",
       "PRAEGENDE_JUGENDJAHRE    108164\n",
       "KBA13_ANZAHL_PKW         105800\n",
       "ANZ_HAUSHALTE_AKTIV       99611\n",
       "CAMEO_INTL_2015           99352\n",
       "CAMEO_DEU_2015            99352\n",
       "CAMEO_DEUG_2015           99352\n",
       "LP_LEBENSPHASE_FEIN       97632\n",
       "RELAT_AB                  97375\n",
       "ARBEIT                    97375\n",
       "ORTSGR_KLS9               97274\n",
       "                          ...  \n",
       "GFK_URLAUBERTYP            4854\n",
       "RETOURTYP_BK_S             4854\n",
       "ONLINE_AFFINITAET          4854\n",
       "LP_STATUS_FEIN             4854\n",
       "LP_STATUS_GROB             4854\n",
       "ALTERSKATEGORIE_GROB       2881\n",
       "SEMIO_FAM                     0\n",
       "SEMIO_SOZ                     0\n",
       "ANREDE_KZ                     0\n",
       "SEMIO_TRADV                   0\n",
       "FINANZ_MINIMALIST             0\n",
       "FINANZ_SPARER                 0\n",
       "FINANZ_VORSORGER              0\n",
       "FINANZ_ANLEGER                0\n",
       "FINANZ_UNAUFFAELLIGER         0\n",
       "FINANZ_HAUSBAUER              0\n",
       "FINANZTYP                     0\n",
       "SEMIO_PFLICHT                 0\n",
       "GREEN_AVANTGARDE              0\n",
       "SEMIO_KAEM                    0\n",
       "SEMIO_DOM                     0\n",
       "SEMIO_KRIT                    0\n",
       "SEMIO_RAT                     0\n",
       "SEMIO_KULT                    0\n",
       "SEMIO_ERL                     0\n",
       "SEMIO_LUST                    0\n",
       "SEMIO_VERT                    0\n",
       "SEMIO_MAT                     0\n",
       "SEMIO_REL                     0\n",
       "ZABEOTYP                      0\n",
       "Length: 79, dtype: int64"
      ]
     },
     "execution_count": 23,
     "metadata": {},
     "output_type": "execute_result"
    }
   ],
   "source": [
    "# List remaining columns with missing values\n",
    "azdias.isnull().sum().sort_values(ascending=False)"
   ]
  },
  {
   "cell_type": "markdown",
   "metadata": {},
   "source": [
    "#### Discussion 1.1.2: Assess Missing Data in Each Column\n",
    "There were a total of 61 columns in the data set that contain missing values. Six of the those columns were concidered outliers for this project and removed. These columns that contained > 20% data missing where 'AGER_TYP', 'GEBURTSJAHR', 'TITEL_KZ', 'ALTER_HH', 'KK_KUNDENTYP', 'KBA05_BAUMAX'.\n",
    "\n",
    "Reviewing groups of other columns that had similiar prefixes found fields related to, health, income, housing and other data categories that might be conidered unknown or indivduals prefered not to answer."
   ]
  },
  {
   "cell_type": "markdown",
   "metadata": {},
   "source": [
    "#### Step 1.1.3: Assess Missing Data in Each Row\n",
    "\n",
    "Now, you'll perform a similar assessment for the rows of the dataset. How much data is missing in each row? As with the columns, you should see some groups of points that have a very different numbers of missing values. Divide the data into two subsets: one for data points that are above some threshold for missing values, and a second subset for points below that threshold.\n",
    "\n",
    "In order to know what to do with the outlier rows, we should see if the distribution of data values on columns that are not missing data (or are missing very little data) are similar or different between the two groups. Select at least five of these columns and compare the distribution of values.\n",
    "- You can use seaborn's [`countplot()`](https://seaborn.pydata.org/generated/seaborn.countplot.html) function to create a bar chart of code frequencies and matplotlib's [`subplot()`](https://matplotlib.org/api/_as_gen/matplotlib.pyplot.subplot.html) function to put bar charts for the two subplots side by side.\n",
    "- To reduce repeated code, you might want to write a function that can perform this comparison, taking as one of its arguments a column to be compared.\n",
    "\n",
    "Depending on what you observe in your comparison, this will have implications on how you approach your conclusions later in the analysis. If the distributions of non-missing features look similar between the data with many missing values and the data with few or no missing values, then we could argue that simply dropping those points from the analysis won't present a major issue. On the other hand, if the data with many missing values looks very different from the data with few or no missing values, then we should make a note on those data as special. We'll revisit these data later on. **Either way, you should continue your analysis for now using just the subset of the data with few or no missing values.**"
   ]
  },
  {
   "cell_type": "code",
   "execution_count": 24,
   "metadata": {},
   "outputs": [
    {
     "data": {
      "text/plain": [
       "891221"
      ]
     },
     "execution_count": 24,
     "metadata": {},
     "output_type": "execute_result"
    }
   ],
   "source": [
    "azdias_some_null_rows = azdias.copy().isnull().sum(axis=1) > 0\n",
    "azdias_some_null_rows.shape[0]"
   ]
  },
  {
   "cell_type": "code",
   "execution_count": 25,
   "metadata": {},
   "outputs": [
    {
     "data": {
      "text/plain": [
       "count    891221.000000\n",
       "mean          5.649894\n",
       "std          13.234687\n",
       "min           0.000000\n",
       "25%           0.000000\n",
       "50%           0.000000\n",
       "75%           3.000000\n",
       "max          49.000000\n",
       "dtype: float64"
      ]
     },
     "execution_count": 25,
     "metadata": {},
     "output_type": "execute_result"
    }
   ],
   "source": [
    "# How much data is missing in each row of the dataset?\n",
    "azdias.isnull().sum(axis=1).describe()"
   ]
  },
  {
   "cell_type": "code",
   "execution_count": 26,
   "metadata": {},
   "outputs": [
    {
     "data": {
      "image/png": "[encoded data removed]",
      "text/plain": [
       "<matplotlib.figure.Figure at 0x7f6440d03f98>"
      ]
     },
     "metadata": {
      "needs_background": "light"
     },
     "output_type": "display_data"
    }
   ],
   "source": [
    "# Seaborn bar chart of code frequencies \n",
    "plt.figure(figsize=(15,4))\n",
    "ax = sns.countplot(azdias.isnull().sum(axis=1))\n",
    "ax.set_xlabel('Count Missing Values')\n",
    "ax.set_ylabel('Row Count')\n",
    "plt.show()"
   ]
  },
  {
   "cell_type": "code",
   "execution_count": 27,
   "metadata": {},
   "outputs": [
    {
     "data": {
      "text/plain": [
       "(780153, 111068)"
      ]
     },
     "execution_count": 27,
     "metadata": {},
     "output_type": "execute_result"
    }
   ],
   "source": [
    "# Write code to divide the data into two subsets based on the number of missing\n",
    "# values in each row.\n",
    "azdias_10 = azdias[azdias.isnull().sum(axis=1) <= 10]\n",
    "azdias_gt10 = azdias[azdias.isnull().sum(axis=1) > 10]\n",
    "azdias_10.shape[0], azdias_gt10.shape[0]"
   ]
  },
  {
   "cell_type": "markdown",
   "metadata": {},
   "source": [
    "#### Compare the distribution of values for at least five columns where there are no or few missing values, between the two subsets."
   ]
  },
  {
   "cell_type": "code",
   "execution_count": 28,
   "metadata": {},
   "outputs": [],
   "source": [
    "# Function to compare 2 subsets of data\n",
    "def compare_distribution(col_name):\n",
    "    fig = plt.figure(figsize = (10, 5))\n",
    "    axis1 = fig.add_subplot(121)\n",
    "    axis1.title.set_text('Missing Data <= 10')\n",
    "    sns.countplot(azdias_10.loc[azdias_10.index, col_name])\n",
    "\n",
    "    axis2 = fig.add_subplot(122)\n",
    "    axis2.title.set_text('Missing Data > 10')\n",
    "    sns.countplot(azdias_gt10.loc[azdias_gt10.index, col_name])\n",
    "    return"
   ]
  },
  {
   "cell_type": "code",
   "execution_count": 29,
   "metadata": {},
   "outputs": [
    {
     "data": {
      "image/png": "[encoded data removed]",
      "text/plain": [
       "<matplotlib.figure.Figure at 0x7f6440d749e8>"
      ]
     },
     "metadata": {
      "needs_background": "light"
     },
     "output_type": "display_data"
    },
    {
     "data": {
      "image/png": "[encoded data removed]",
      "text/plain": [
       "<matplotlib.figure.Figure at 0x7f644391a390>"
      ]
     },
     "metadata": {
      "needs_background": "light"
     },
     "output_type": "display_data"
    },
    {
     "data": {
      "image/png": "[encoded data removed]",
      "text/plain": [
       "<matplotlib.figure.Figure at 0x7f64438a5518>"
      ]
     },
     "metadata": {
      "needs_background": "light"
     },
     "output_type": "display_data"
    },
    {
     "data": {
      "image/png": "[encoded data removed]",
      "text/plain": [
       "<matplotlib.figure.Figure at 0x7f64437c1668>"
      ]
     },
     "metadata": {
      "needs_background": "light"
     },
     "output_type": "display_data"
    },
    {
     "data": {
      "image/png": "[encoded data removed]",
      "text/plain": [
       "<matplotlib.figure.Figure at 0x7f6440cacac8>"
      ]
     },
     "metadata": {
      "needs_background": "light"
     },
     "output_type": "display_data"
    }
   ],
   "source": [
    "# Comparing 5 features with zero or few missing values\n",
    "column_names = ['ALTERSKATEGORIE_GROB', 'FINANZ_SPARER', 'ZABEOTYP', 'SEMIO_LUST', 'LP_STATUS_GROB']\n",
    "\n",
    "for col_name in column_names:\n",
    "    compare_distribution(col_name)"
   ]
  },
  {
   "cell_type": "code",
   "execution_count": 30,
   "metadata": {},
   "outputs": [
    {
     "data": {
      "text/plain": [
       "(780153, 79)"
      ]
     },
     "execution_count": 30,
     "metadata": {},
     "output_type": "execute_result"
    }
   ],
   "source": [
    "# Make backup copy of full dataset, then reset azidas to the dataset with <=10 for missing row values.\n",
    "azdias_full = azdias.copy()\n",
    "azdiaz = azdias_10.copy()\n",
    "azdiaz.shape"
   ]
  },
  {
   "cell_type": "markdown",
   "metadata": {},
   "source": [
    "#### Discussion 1.1.3: Assess Missing Data in Each Row\n",
    "\n",
    "I reviewed 5 features in the data that zero or few missing values. The distributions of the questions tended to vary between the 2 data sets. For individuals financial type, FINANZ_SPARER, the  > 10 group approxametl 80% were \"VORORGER\", meaning \"be prepared\". The <= 10 group the larges grouping was \"Minimalist\". Looking at the ALTERSKATEGORI_GROB (estimaed age group) the over 60 significantly smaller percentage wise in the > 10 group. The other fields had similiar diferences. For ZABEOTYP (energy consumption typology) the <=10 group hended to be moe price driven and >10 were predominatly fair supplied. To gain further insight into any significnce of these variances we would need to further review of features to gain additional insight."
   ]
  },
  {
   "cell_type": "markdown",
   "metadata": {},
   "source": [
    "### Step 1.2: Select and Re-Encode Features\n",
    "\n",
    "Checking for missing data isn't the only way in which you can prepare a dataset for analysis. Since the unsupervised learning techniques to be used will only work on data that is encoded numerically, you need to make a few encoding changes or additional assumptions to be able to make progress. In addition, while almost all of the values in the dataset are encoded using numbers, not all of them represent numeric values. Check the third column of the feature summary (`feat_info`) for a summary of types of measurement.\n",
    "- For numeric and interval data, these features can be kept without changes.\n",
    "- Most of the variables in the dataset are ordinal in nature. While ordinal values may technically be non-linear in spacing, make the simplifying assumption that the ordinal variables can be treated as being interval in nature (that is, kept without any changes).\n",
    "- Special handling may be necessary for the remaining two variable types: categorical, and 'mixed'.\n",
    "\n",
    "In the first two parts of this sub-step, you will perform an investigation of the categorical and mixed-type features and make a decision on each of them, whether you will keep, drop, or re-encode each. Then, in the last part, you will create a new data frame with only the selected and engineered columns.\n",
    "\n",
    "Data wrangling is often the trickiest part of the data analysis process, and there's a lot of it to be done here. But stick with it: once you're done with this step, you'll be ready to get to the machine learning parts of the project!"
   ]
  },
  {
   "cell_type": "markdown",
   "metadata": {},
   "source": [
    "#### Step 1.2.1: Re-Encode Categorical Features\n",
    "\n",
    "For categorical data, you would ordinarily need to encode the levels as dummy variables. Depending on the number of categories, perform one of the following:\n",
    "- For binary (two-level) categoricals that take numeric values, you can keep them without needing to do anything.\n",
    "- There is one binary variable that takes on non-numeric values. For this one, you need to re-encode the values as numbers or create a dummy variable.\n",
    "- For multi-level categoricals (three or more values), you can choose to encode the values using multiple dummy variables (e.g. via [OneHotEncoder](http://scikit-learn.org/stable/modules/generated/sklearn.preprocessing.OneHotEncoder.html)), or (to keep things straightforward) just drop them from the analysis. As always, document your choices in the Discussion section."
   ]
  },
  {
   "cell_type": "code",
   "execution_count": 31,
   "metadata": {},
   "outputs": [
    {
     "data": {
      "text/plain": [
       "ordinal        49\n",
       "categorical    18\n",
       "numeric         6\n",
       "mixed           6\n",
       "Name: type, dtype: int64"
      ]
     },
     "execution_count": 31,
     "metadata": {},
     "output_type": "execute_result"
    }
   ],
   "source": [
    "# How many features are there of each data type?\n",
    "feat_info['type'].value_counts()"
   ]
  },
  {
   "cell_type": "code",
   "execution_count": 32,
   "metadata": {},
   "outputs": [
    {
     "name": "stdout",
     "output_type": "stream",
     "text": [
      "count    891221.000000\n",
      "mean          1.522098\n",
      "std           0.499512\n",
      "min           1.000000\n",
      "25%           1.000000\n",
      "50%           2.000000\n",
      "75%           2.000000\n",
      "max           2.000000\n",
      "Name: ANREDE_KZ, dtype: float64\n",
      "0\n",
      "count    886367.000000\n",
      "mean          3.632838\n",
      "std           1.595021\n",
      "min           1.000000\n",
      "25%           2.000000\n",
      "50%           4.000000\n",
      "75%           5.000000\n",
      "max           6.000000\n",
      "Name: CJT_GESAMTTYP, dtype: float64\n",
      "4854\n",
      "count    891221.000000\n",
      "mean          3.790586\n",
      "std           1.987876\n",
      "min           1.000000\n",
      "25%           2.000000\n",
      "50%           4.000000\n",
      "75%           6.000000\n",
      "max           6.000000\n",
      "Name: FINANZTYP, dtype: float64\n",
      "0\n",
      "count    886367.000000\n",
      "mean          7.350304\n",
      "std           3.525723\n",
      "min           1.000000\n",
      "25%           5.000000\n",
      "50%           8.000000\n",
      "75%          10.000000\n",
      "max          12.000000\n",
      "Name: GFK_URLAUBERTYP, dtype: float64\n",
      "4854\n",
      "count    891221.000000\n",
      "mean          0.196612\n",
      "std           0.397437\n",
      "min           0.000000\n",
      "25%           0.000000\n",
      "50%           0.000000\n",
      "75%           0.000000\n",
      "max           1.000000\n",
      "Name: GREEN_AVANTGARDE, dtype: float64\n",
      "0\n",
      "count    813429.000000\n",
      "mean          3.922339\n",
      "std           3.941285\n",
      "min           1.000000\n",
      "25%           1.000000\n",
      "50%           1.000000\n",
      "75%           8.000000\n",
      "max          11.000000\n",
      "Name: LP_FAMILIE_FEIN, dtype: float64\n",
      "77792\n",
      "count    813429.000000\n",
      "mean          2.381976\n",
      "std           1.701527\n",
      "min           1.000000\n",
      "25%           1.000000\n",
      "50%           1.000000\n",
      "75%           4.000000\n",
      "max           5.000000\n",
      "Name: LP_FAMILIE_GROB, dtype: float64\n",
      "77792\n",
      "count    886367.000000\n",
      "mean          4.791151\n",
      "std           3.425305\n",
      "min           1.000000\n",
      "25%           2.000000\n",
      "50%           4.000000\n",
      "75%           9.000000\n",
      "max          10.000000\n",
      "Name: LP_STATUS_FEIN, dtype: float64\n",
      "4854\n",
      "count    886367.000000\n",
      "mean          2.432575\n",
      "std           1.474315\n",
      "min           1.000000\n",
      "25%           1.000000\n",
      "50%           2.000000\n",
      "75%           4.000000\n",
      "max           5.000000\n",
      "Name: LP_STATUS_GROB, dtype: float64\n",
      "4854\n",
      "count    782906.000000\n",
      "mean          1.168889\n",
      "std           0.475075\n",
      "min           1.000000\n",
      "25%           1.000000\n",
      "50%           1.000000\n",
      "75%           1.000000\n",
      "max           3.000000\n",
      "Name: NATIONALITAET_KZ, dtype: float64\n",
      "108315\n",
      "count    780025.000000\n",
      "mean          1.590134\n",
      "std           1.027972\n",
      "min           0.000000\n",
      "25%           1.000000\n",
      "50%           2.000000\n",
      "75%           2.000000\n",
      "max           3.000000\n",
      "Name: SHOPPER_TYP, dtype: float64\n",
      "111196\n",
      "count    817722.000000\n",
      "mean          0.008423\n",
      "std           0.091392\n",
      "min           0.000000\n",
      "25%           0.000000\n",
      "50%           0.000000\n",
      "75%           0.000000\n",
      "max           1.000000\n",
      "Name: SOHO_KZ, dtype: float64\n",
      "73499\n",
      "count    780025.000000\n",
      "mean          1.511166\n",
      "std           0.499876\n",
      "min           1.000000\n",
      "25%           1.000000\n",
      "50%           2.000000\n",
      "75%           2.000000\n",
      "max           2.000000\n",
      "Name: VERS_TYP, dtype: float64\n",
      "111196\n",
      "count    891221.000000\n",
      "mean          3.362438\n",
      "std           1.352704\n",
      "min           1.000000\n",
      "25%           3.000000\n",
      "50%           3.000000\n",
      "75%           4.000000\n",
      "max           6.000000\n",
      "Name: ZABEOTYP, dtype: float64\n",
      "0\n",
      "count    798073.000000\n",
      "mean          2.798641\n",
      "std           2.656713\n",
      "min           1.000000\n",
      "25%           1.000000\n",
      "50%           1.000000\n",
      "75%           3.000000\n",
      "max           8.000000\n",
      "Name: GEBAEUDETYP, dtype: float64\n",
      "93148\n",
      "count     798073\n",
      "unique         2\n",
      "top            W\n",
      "freq      629528\n",
      "Name: OST_WEST_KZ, dtype: object\n",
      "93148\n",
      "count     791869\n",
      "unique         9\n",
      "top            8\n",
      "freq      134441\n",
      "Name: CAMEO_DEUG_2015, dtype: object\n",
      "99352\n",
      "count     791869\n",
      "unique        44\n",
      "top           6B\n",
      "freq       56672\n",
      "Name: CAMEO_DEU_2015, dtype: object\n",
      "99352\n"
     ]
    }
   ],
   "source": [
    "# Assess categorical variables: which are binary, which are multi-level, and\n",
    "# which one needs to be re-encoded?\n",
    "cat_features = feat_info[feat_info[\"type\"]==\"categorical\"][\"attribute\"]\n",
    "for var in cat_features:\n",
    "    print(azdias[var].describe())\n",
    "    print(azdias[var].isnull().sum())\n"
   ]
  },
  {
   "cell_type": "code",
   "execution_count": 33,
   "metadata": {},
   "outputs": [
    {
     "data": {
      "text/plain": [
       "1.0    629528\n",
       "0.0    168545\n",
       "Name: OST_WEST_KZ, dtype: int64"
      ]
     },
     "execution_count": 33,
     "metadata": {},
     "output_type": "execute_result"
    }
   ],
   "source": [
    "# Re-encode categorical variable(s) to be kept in the analysis.\n",
    "azdias['OST_WEST_KZ'] = azdias['OST_WEST_KZ'].replace({'W': 1, 'O': 0})\n",
    "azdias['OST_WEST_KZ'].value_counts()"
   ]
  },
  {
   "cell_type": "code",
   "execution_count": 34,
   "metadata": {},
   "outputs": [],
   "source": [
    "azdias_121_backup = azdias.copy()"
   ]
  },
  {
   "cell_type": "code",
   "execution_count": 35,
   "metadata": {},
   "outputs": [],
   "source": [
    "# Revert azdias to backup copy if needed\n",
    "# azdias = azdias_121_backup.copy()"
   ]
  },
  {
   "cell_type": "code",
   "execution_count": 36,
   "metadata": {},
   "outputs": [],
   "source": [
    "# Remove Categorical Features 3 or more values\n",
    "cat_features_to_remove = ['CJT_GESAMTTYP', 'FINANZTYP','GFK_URLAUBERTYP', 'LP_FAMILIE_FEIN', 'LP_FAMILIE_GROB', 'LP_STATUS_FEIN', 'LP_STATUS_GROB', 'NATIONALITAET_KZ', 'SHOPPER_TYP', 'ZABEOTYP', 'GEBAEUDETYP', 'CAMEO_DEUG_2015', 'CAMEO_DEU_2015']\n",
    "azdias = azdias.drop(cat_features_to_remove, axis=1)"
   ]
  },
  {
   "cell_type": "code",
   "execution_count": 37,
   "metadata": {},
   "outputs": [
    {
     "name": "stdout",
     "output_type": "stream",
     "text": [
      "CJT_GESAMTTYP\n",
      "Int64Index([3], dtype='int64')\n",
      "FINANZTYP\n",
      "Int64Index([10], dtype='int64')\n",
      "GFK_URLAUBERTYP\n",
      "Int64Index([12], dtype='int64')\n",
      "LP_FAMILIE_FEIN\n",
      "Int64Index([17], dtype='int64')\n",
      "LP_FAMILIE_GROB\n",
      "Int64Index([18], dtype='int64')\n",
      "LP_STATUS_FEIN\n",
      "Int64Index([19], dtype='int64')\n",
      "LP_STATUS_GROB\n",
      "Int64Index([20], dtype='int64')\n",
      "NATIONALITAET_KZ\n",
      "Int64Index([21], dtype='int64')\n",
      "SHOPPER_TYP\n",
      "Int64Index([38], dtype='int64')\n",
      "ZABEOTYP\n",
      "Int64Index([42], dtype='int64')\n",
      "GEBAEUDETYP\n",
      "Int64Index([52], dtype='int64')\n",
      "CAMEO_DEUG_2015\n",
      "Int64Index([57], dtype='int64')\n",
      "CAMEO_DEU_2015\n",
      "Int64Index([58], dtype='int64')\n"
     ]
    },
    {
     "data": {
      "text/plain": [
       "(66, 4)"
      ]
     },
     "execution_count": 37,
     "metadata": {},
     "output_type": "execute_result"
    }
   ],
   "source": [
    "# Remove labels for dropped feature columns\n",
    "for x in cat_features_to_remove:\n",
    "    print(x)\n",
    "    i = feat_info[((feat_info.attribute == x))].index\n",
    "    feat_info.drop(i, inplace=True)\n",
    "    print(i)\n",
    "feat_info.shape"
   ]
  },
  {
   "cell_type": "markdown",
   "metadata": {},
   "source": [
    "#### Discussion 1.2.1: Re-Encode Categorical Features\n",
    "\n",
    "Of the 21 Categorical features, the OST_WEST_KZ feature contained 2 non-numeric values. For this feature I replaced the 'W' values with 1's and the 'O' values with 0's. The remaining categorical fields with 3 or more values I choose to simply drop to keep things straightforward as suggested in the instructions.\n",
    "The following field were dropped:\n",
    "['CJT_GESAMTTYP', 'FINANZTYP','GFK_URLAUBERTYP', 'LP_FAMILIE_FEIN', 'LP_FAMILIE_GROB', 'LP_STATUS_FEIN', 'LP_STATUS_GROB', 'NATIONALITAET_KZ', 'SHOPPER_TYP', 'ZABEOTYP', 'GEBAEUDETYP', 'CAMEO_DEUG_2015', 'CAMEO_DEU_2015']\n",
    "\n",
    "After dropping the features I also removed the labels from the feature information dataframe."
   ]
  },
  {
   "cell_type": "markdown",
   "metadata": {},
   "source": [
    "#### Step 1.2.2: Engineer Mixed-Type Features\n",
    "\n",
    "There are a handful of features that are marked as \"mixed\" in the feature summary that require special treatment in order to be included in the analysis. There are two in particular that deserve attention; the handling of the rest are up to your own choices:\n",
    "- \"PRAEGENDE_JUGENDJAHRE\" combines information on three dimensions: generation by decade, movement (mainstream vs. avantgarde), and nation (east vs. west). While there aren't enough levels to disentangle east from west, you should create two new variables to capture the other two dimensions: an interval-type variable for decade, and a binary variable for movement.\n",
    "- \"CAMEO_INTL_2015\" combines information on two axes: wealth and life stage. Break up the two-digit codes by their 'tens'-place and 'ones'-place digits into two new ordinal variables (which, for the purposes of this project, is equivalent to just treating them as their raw numeric values).\n",
    "- If you decide to keep or engineer new features around the other mixed-type features, make sure you note your steps in the Discussion section.\n",
    "\n",
    "Be sure to check `Data_Dictionary.md` for the details needed to finish these tasks."
   ]
  },
  {
   "cell_type": "code",
   "execution_count": 38,
   "metadata": {},
   "outputs": [
    {
     "name": "stdout",
     "output_type": "stream",
     "text": [
      "0     NaN\n",
      "1    14.0\n",
      "2    15.0\n",
      "3     8.0\n",
      "4     8.0\n",
      "Name: PRAEGENDE_JUGENDJAHRE, dtype: float64\n"
     ]
    }
   ],
   "source": [
    "# Investigate \"PRAEGENDE_JUGENDJAHRE\" and engineer two new variables.\n",
    "print(azdias['PRAEGENDE_JUGENDJAHRE'].head())"
   ]
  },
  {
   "cell_type": "code",
   "execution_count": 39,
   "metadata": {},
   "outputs": [],
   "source": [
    "# Map values for the new features\n",
    "decade_map = {1:40, 2:40,3:50,4:50,5:60,6:60,7:60,8:70,9:70,10:80,11:80,12:80,13:80,14:90,15:90}\n",
    "movement_map = {1:0,2:1,3:0,4:1,5:0,6:1,7:1,8:0,9:1,10:0,11:1,12:0,13:1,14:0,15:1}"
   ]
  },
  {
   "cell_type": "code",
   "execution_count": 40,
   "metadata": {},
   "outputs": [],
   "source": [
    "# Create new features based on mapping dictionaries\n",
    "azdias['DECADE'] = azdias['PRAEGENDE_JUGENDJAHRE'].map(decade_map)\n",
    "azdias['MOVEMENT'] = azdias['PRAEGENDE_JUGENDJAHRE'].map(movement_map)"
   ]
  },
  {
   "cell_type": "code",
   "execution_count": 41,
   "metadata": {},
   "outputs": [
    {
     "name": "stdout",
     "output_type": "stream",
     "text": [
      "0    NaN\n",
      "1     51\n",
      "2     24\n",
      "3     12\n",
      "4     43\n",
      "Name: CAMEO_INTL_2015, dtype: object\n"
     ]
    }
   ],
   "source": [
    "# Investigate \"CAMEO_INTL_2015\" and engineer two new variables.\n",
    "print(azdias['CAMEO_INTL_2015'].head())"
   ]
  },
  {
   "cell_type": "code",
   "execution_count": 42,
   "metadata": {},
   "outputs": [],
   "source": [
    "# Functions to separate values for CAMEO_INTL_2015\n",
    "def get_wealth(x):\n",
    "    if(len(str(x))==2):\n",
    "        tens = int(str(x)[0])\n",
    "        return tens\n",
    "    else: return np.nan\n",
    "\n",
    "def get_life_stage(x):\n",
    "    if(len(str(x))==2):\n",
    "        ones = int(str(x)[1])\n",
    "        return ones\n",
    "    else: return np.nan\n"
   ]
  },
  {
   "cell_type": "code",
   "execution_count": 43,
   "metadata": {},
   "outputs": [],
   "source": [
    "# Create new features for Wealth and Life Stage based on the CAMEO_INTL_2015 feature\n",
    "azdias['WEALTH'] = azdias['CAMEO_INTL_2015'].apply(get_wealth)\n",
    "azdias['LIFE_STAGE'] = azdias['CAMEO_INTL_2015'].apply(get_life_stage)"
   ]
  },
  {
   "cell_type": "code",
   "execution_count": 44,
   "metadata": {},
   "outputs": [
    {
     "name": "stdout",
     "output_type": "stream",
     "text": [
      "5.0    223582\n",
      "2.0    190691\n",
      "4.0    189960\n",
      "1.0    119443\n",
      "3.0     68193\n",
      "Name: WEALTH, dtype: int64 1.0    245054\n",
      "4.0    232777\n",
      "3.0    119693\n",
      "5.0    117045\n",
      "2.0     77300\n",
      "Name: LIFE_STAGE, dtype: int64\n"
     ]
    }
   ],
   "source": [
    "# View data for new features\n",
    "print(azdias['WEALTH'].value_counts(), azdias['LIFE_STAGE'].value_counts())"
   ]
  },
  {
   "cell_type": "code",
   "execution_count": 45,
   "metadata": {},
   "outputs": [],
   "source": [
    "# Remove original features from azdias\n",
    "azdias = azdias.drop(['PRAEGENDE_JUGENDJAHRE','CAMEO_INTL_2015'], axis=1)"
   ]
  },
  {
   "cell_type": "code",
   "execution_count": 46,
   "metadata": {},
   "outputs": [
    {
     "name": "stdout",
     "output_type": "stream",
     "text": [
      "PRAEGENDE_JUGENDJAHRE\n",
      "Int64Index([22], dtype='int64')\n",
      "CAMEO_INTL_2015\n",
      "Int64Index([59], dtype='int64')\n"
     ]
    },
    {
     "data": {
      "text/plain": [
       "(64, 4)"
      ]
     },
     "execution_count": 46,
     "metadata": {},
     "output_type": "execute_result"
    }
   ],
   "source": [
    "# Remove labels for dropped feature columns\n",
    "features_to_remove = ['PRAEGENDE_JUGENDJAHRE','CAMEO_INTL_2015']\n",
    "\n",
    "for x in features_to_remove:\n",
    "    print(x)\n",
    "    i = feat_info[((feat_info.attribute == x))].index\n",
    "    feat_info.drop(i, inplace=True)\n",
    "    print(i)\n",
    "feat_info.shape\n"
   ]
  },
  {
   "cell_type": "code",
   "execution_count": 47,
   "metadata": {},
   "outputs": [
    {
     "name": "stdout",
     "output_type": "stream",
     "text": [
      "['LP_LEBENSPHASE_FEIN', 'LP_LEBENSPHASE_GROB', 'WOHNLAGE', 'PLZ8_BAUMAX']\n",
      "LP_LEBENSPHASE_FEIN has 1.0     62667\n",
      "5.0     55542\n",
      "6.0     45614\n",
      "2.0     39434\n",
      "8.0     30475\n",
      "11.0    26710\n",
      "29.0    26577\n",
      "7.0     26508\n",
      "13.0    26085\n",
      "10.0    25789\n",
      "31.0    23987\n",
      "12.0    23300\n",
      "30.0    22361\n",
      "15.0    20062\n",
      "3.0     19985\n",
      "19.0    19484\n",
      "37.0    18525\n",
      "4.0     17595\n",
      "14.0    17529\n",
      "20.0    17132\n",
      "32.0    17105\n",
      "39.0    16182\n",
      "40.0    15150\n",
      "27.0    14475\n",
      "16.0    14466\n",
      "38.0    13914\n",
      "35.0    13679\n",
      "34.0    13074\n",
      "9.0     13066\n",
      "21.0    12766\n",
      "28.0    12264\n",
      "24.0    12091\n",
      "36.0    10505\n",
      "25.0    10370\n",
      "23.0     9191\n",
      "22.0     7224\n",
      "18.0     7168\n",
      "33.0     6066\n",
      "17.0     5888\n",
      "26.0     3584\n",
      "Name: LP_LEBENSPHASE_FEIN, dtype: int64 values\n",
      "LP_LEBENSPHASE_GROB has 2.0     158139\n",
      "1.0     139681\n",
      "3.0     115624\n",
      "12.0     74276\n",
      "4.0      54443\n",
      "5.0      49672\n",
      "9.0      48938\n",
      "10.0     41092\n",
      "11.0     32819\n",
      "8.0      30323\n",
      "6.0      29181\n",
      "7.0      22461\n",
      "Name: LP_LEBENSPHASE_GROB, dtype: int64 values\n",
      "WOHNLAGE has 3.0    249719\n",
      "7.0    169318\n",
      "4.0    135973\n",
      "2.0    100376\n",
      "5.0     74346\n",
      "1.0     43918\n",
      "8.0     17473\n",
      "0.0      6950\n",
      "Name: WOHNLAGE, dtype: int64 values\n",
      "PLZ8_BAUMAX has 1.0    499550\n",
      "5.0     97333\n",
      "2.0     70407\n",
      "4.0     56684\n",
      "3.0     50732\n",
      "Name: PLZ8_BAUMAX, dtype: int64 values\n"
     ]
    }
   ],
   "source": [
    "# Review remaining Mixed type fields\n",
    "mixed_fields = feat_info[feat_info['type'] == 'mixed']['attribute'].tolist()\n",
    "print(mixed_fields)\n",
    "for x in mixed_fields:\n",
    "    print('{} has {} values'.format(x, azdias[x].value_counts()))"
   ]
  },
  {
   "cell_type": "code",
   "execution_count": 48,
   "metadata": {},
   "outputs": [],
   "source": [
    "# Functions to separate values for WOHNLAGE and PLZ8_BAUMAX features\n",
    "def get_wohnlage(x):\n",
    "    if(len(str(x))==3):\n",
    "        wohnlage = x\n",
    "        return wohnlage\n",
    "    else: return np.nan\n",
    "    \n",
    "def get_plz8(x):\n",
    "    if(len(str(x))==3):\n",
    "        plz8 = x\n",
    "        return plz8\n",
    "    else: return np.nan"
   ]
  },
  {
   "cell_type": "code",
   "execution_count": 49,
   "metadata": {},
   "outputs": [],
   "source": [
    "# Create new features for the neighborhood and housing types\n",
    "azdias['NEIGHBORHOOD'] = azdias['WOHNLAGE'].apply(get_wohnlage)\n",
    "azdias['HOUSING_TYPE'] = azdias['PLZ8_BAUMAX'].apply(get_plz8)"
   ]
  },
  {
   "cell_type": "code",
   "execution_count": 50,
   "metadata": {},
   "outputs": [
    {
     "name": "stdout",
     "output_type": "stream",
     "text": [
      "3.0    249719\n",
      "7.0    169318\n",
      "4.0    135973\n",
      "2.0    100376\n",
      "5.0     74346\n",
      "1.0     43918\n",
      "8.0     17473\n",
      "0.0      6950\n",
      "Name: NEIGHBORHOOD, dtype: int64 1.0    499550\n",
      "5.0     97333\n",
      "2.0     70407\n",
      "4.0     56684\n",
      "3.0     50732\n",
      "Name: HOUSING_TYPE, dtype: int64\n"
     ]
    }
   ],
   "source": [
    "print(azdias['NEIGHBORHOOD'].value_counts(), azdias['HOUSING_TYPE'].value_counts())"
   ]
  },
  {
   "cell_type": "code",
   "execution_count": 51,
   "metadata": {},
   "outputs": [],
   "source": [
    "# Remove remaing mixed features from azdias\n",
    "azdias = azdias.drop(['LP_LEBENSPHASE_FEIN','LP_LEBENSPHASE_GROB', 'WOHNLAGE', 'PLZ8_BAUMAX'], axis=1)"
   ]
  },
  {
   "cell_type": "code",
   "execution_count": 52,
   "metadata": {},
   "outputs": [
    {
     "name": "stdout",
     "output_type": "stream",
     "text": [
      "LP_LEBENSPHASE_FEIN\n",
      "Int64Index([15], dtype='int64')\n",
      "LP_LEBENSPHASE_GROB\n",
      "Int64Index([16], dtype='int64')\n",
      "WOHNLAGE\n",
      "Int64Index([56], dtype='int64')\n",
      "PLZ8_BAUMAX\n",
      "Int64Index([79], dtype='int64')\n"
     ]
    },
    {
     "data": {
      "text/plain": [
       "(60, 4)"
      ]
     },
     "execution_count": 52,
     "metadata": {},
     "output_type": "execute_result"
    }
   ],
   "source": [
    "# Remove labels for dropped feature columns\n",
    "features_to_remove = ['LP_LEBENSPHASE_FEIN','LP_LEBENSPHASE_GROB', 'WOHNLAGE', 'PLZ8_BAUMAX']\n",
    "\n",
    "for x in features_to_remove:\n",
    "    print(x)\n",
    "    i = feat_info[((feat_info.attribute == x))].index\n",
    "    feat_info.drop(i, inplace=True)\n",
    "    print(i)\n",
    "feat_info.shape"
   ]
  },
  {
   "cell_type": "markdown",
   "metadata": {},
   "source": [
    "#### Discussion 1.2.2: Engineer Mixed-Type Features\n",
    "There were 6 mixed-value features in the data set.\n",
    "\n",
    "For the PRAEGENDE_JUGENDJAHRE feature, the values contained data for 3 different dimensions. I created to new features to capture the Decade they were in and the Movement they were part of when they were younger. The original feature was then removed.\n",
    "\n",
    "The CAMEO_INTL_2015 feature contain data for both Wealth and the Life Stage they were in. I created two new features to capture the respected values contained in this feature, then removed the original feature.\n",
    "\n",
    "There were four remaining features to review:\n",
    "- LP_LEBENSPHASE_FEIN - This feature has the similar data related to the Life Stage data found in the PRAEGENDE_JUGENDJAHRE feature. This feature was removed as it appeared to duplicate the data.\n",
    "- LP_LEBENSPHASE_GROB - This feature also the similar data related to specific Life Stage data found in the PRAEGENDE_JUGENDJAHRE feature. This feature was removed as this data could be found in the new LIFE_STAGE feature.\n",
    "- WOHNLAGE - This feature contains data on the neighborhood quality. Created new field to capture only the integer and removed original feature.\n",
    "- PLZ8_BAUMAX - Data identifying the most common home building type in the region. Created new field to capture only the integer and removed original feature.\n"
   ]
  },
  {
   "cell_type": "markdown",
   "metadata": {},
   "source": [
    "#### Step 1.2.3: Complete Feature Selection\n",
    "\n",
    "In order to finish this step up, you need to make sure that your data frame now only has the columns that you want to keep. To summarize, the dataframe should consist of the following:\n",
    "- All numeric, interval, and ordinal type columns from the original dataset.\n",
    "- Binary categorical features (all numerically-encoded).\n",
    "- Engineered features from other multi-level categorical features and mixed features.\n",
    "\n",
    "Make sure that for any new columns that you have engineered, that you've excluded the original columns from the final dataset. Otherwise, their values will interfere with the analysis later on the project. For example, you should not keep \"PRAEGENDE_JUGENDJAHRE\", since its values won't be useful for the algorithm: only the values derived from it in the engineered features you created should be retained. As a reminder, your data should only be from **the subset with few or no missing values**."
   ]
  },
  {
   "cell_type": "code",
   "execution_count": 53,
   "metadata": {},
   "outputs": [
    {
     "data": {
      "text/plain": [
       "<bound method DataFrame.info of         ALTERSKATEGORIE_GROB  ANREDE_KZ  FINANZ_MINIMALIST  FINANZ_SPARER  \\\n",
       "0                        2.0          1                  3              4   \n",
       "1                        1.0          2                  1              5   \n",
       "2                        3.0          2                  1              4   \n",
       "3                        4.0          2                  4              2   \n",
       "4                        3.0          1                  4              3   \n",
       "5                        1.0          2                  3              1   \n",
       "6                        2.0          2                  1              5   \n",
       "7                        1.0          1                  3              3   \n",
       "8                        3.0          1                  4              4   \n",
       "9                        3.0          2                  2              4   \n",
       "10                       3.0          2                  2              2   \n",
       "11                       2.0          1                  3              4   \n",
       "12                       3.0          1                  5              3   \n",
       "13                       1.0          2                  1              4   \n",
       "14                       3.0          1                  3              4   \n",
       "15                       4.0          2                  4              1   \n",
       "16                       1.0          2                  4              3   \n",
       "17                       2.0          1                  3              4   \n",
       "18                       2.0          2                  2              4   \n",
       "19                       3.0          1                  5              2   \n",
       "20                       2.0          2                  4              3   \n",
       "21                       2.0          1                  3              4   \n",
       "22                       1.0          1                  1              5   \n",
       "23                       3.0          1                  5              3   \n",
       "24                       3.0          2                  3              4   \n",
       "25                       1.0          1                  3              5   \n",
       "26                       3.0          1                  5              2   \n",
       "27                       3.0          1                  3              3   \n",
       "28                       3.0          1                  3              2   \n",
       "29                       4.0          2                  5              1   \n",
       "...                      ...        ...                ...            ...   \n",
       "891191                   4.0          2                  4              1   \n",
       "891192                   1.0          2                  1              5   \n",
       "891193                   4.0          1                  4              1   \n",
       "891194                   3.0          1                  4              3   \n",
       "891195                   4.0          2                  3              1   \n",
       "891196                   2.0          2                  1              5   \n",
       "891197                   3.0          2                  3              2   \n",
       "891198                   3.0          1                  2              5   \n",
       "891199                   2.0          1                  2              5   \n",
       "891200                   1.0          2                  1              5   \n",
       "891201                   3.0          1                  4              2   \n",
       "891202                   2.0          2                  1              4   \n",
       "891203                   4.0          2                  4              1   \n",
       "891204                   3.0          1                  4              3   \n",
       "891205                   4.0          1                  4              2   \n",
       "891206                   1.0          2                  3              4   \n",
       "891207                   3.0          2                  5              1   \n",
       "891208                   4.0          1                  5              2   \n",
       "891209                   1.0          2                  1              4   \n",
       "891210                   3.0          1                  3              3   \n",
       "891211                   3.0          1                  3              2   \n",
       "891212                   4.0          1                  3              1   \n",
       "891213                   4.0          2                  3              3   \n",
       "891214                   1.0          2                  1              5   \n",
       "891215                   2.0          2                  1              5   \n",
       "891216                   3.0          2                  1              4   \n",
       "891217                   2.0          1                  3              3   \n",
       "891218                   2.0          2                  2              4   \n",
       "891219                   1.0          1                  1              5   \n",
       "891220                   4.0          1                  4              2   \n",
       "\n",
       "        FINANZ_VORSORGER  FINANZ_ANLEGER  FINANZ_UNAUFFAELLIGER  \\\n",
       "0                      3               5                      5   \n",
       "1                      2               5                      4   \n",
       "2                      1               2                      3   \n",
       "3                      5               2                      1   \n",
       "4                      4               1                      3   \n",
       "5                      5               2                      2   \n",
       "6                      1               5                      4   \n",
       "7                      4               1                      3   \n",
       "8                      2               4                      2   \n",
       "9                      2               3                      5   \n",
       "10                     5               3                      1   \n",
       "11                     3               5                      5   \n",
       "12                     4               2                      4   \n",
       "13                     3               5                      5   \n",
       "14                     3               5                      5   \n",
       "15                     5               1                      1   \n",
       "16                     1               4                      5   \n",
       "17                     3               5                      5   \n",
       "18                     1               5                      4   \n",
       "19                     3               1                      3   \n",
       "20                     1               4                      5   \n",
       "21                     1               2                      5   \n",
       "22                     3               5                      5   \n",
       "23                     3               2                      2   \n",
       "24                     3               5                      5   \n",
       "25                     3               5                      4   \n",
       "26                     4               2                      3   \n",
       "27                     4               1                      2   \n",
       "28                     4               3                      3   \n",
       "29                     5               2                      1   \n",
       "...                  ...             ...                    ...   \n",
       "891191                 5               1                      1   \n",
       "891192                 2               5                      3   \n",
       "891193                 5               1                      2   \n",
       "891194                 4               2                      3   \n",
       "891195                 5               1                      1   \n",
       "891196                 2               5                      4   \n",
       "891197                 4               1                      3   \n",
       "891198                 3               4                      5   \n",
       "891199                 2               3                      3   \n",
       "891200                 3               5                      5   \n",
       "891201                 3               2                      2   \n",
       "891202                 1               2                      5   \n",
       "891203                 5               1                      3   \n",
       "891204                 4               4                      2   \n",
       "891205                 4               3                      3   \n",
       "891206                 2               4                      4   \n",
       "891207                 5               1                      2   \n",
       "891208                 4               2                      3   \n",
       "891209                 2               3                      4   \n",
       "891210                 4               2                      2   \n",
       "891211                 4               3                      3   \n",
       "891212                 5               1                      1   \n",
       "891213                 3               5                      3   \n",
       "891214                 2               3                      3   \n",
       "891215                 2               4                      5   \n",
       "891216                 2               5                      4   \n",
       "891217                 3               2                      2   \n",
       "891218                 2               5                      4   \n",
       "891219                 3               5                      5   \n",
       "891220                 5               2                      1   \n",
       "\n",
       "        FINANZ_HAUSBAUER  GREEN_AVANTGARDE  HEALTH_TYP      ...       \\\n",
       "0                      3                 0         NaN      ...        \n",
       "1                      5                 0         3.0      ...        \n",
       "2                      5                 1         3.0      ...        \n",
       "3                      2                 0         2.0      ...        \n",
       "4                      2                 0         3.0      ...        \n",
       "5                      5                 0         3.0      ...        \n",
       "6                      3                 0         2.0      ...        \n",
       "7                      2                 0         1.0      ...        \n",
       "8                      2                 1         3.0      ...        \n",
       "9                      4                 1         2.0      ...        \n",
       "10                     5                 0         2.0      ...        \n",
       "11                     3                 0         NaN      ...        \n",
       "12                     1                 0         1.0      ...        \n",
       "13                     2                 1         3.0      ...        \n",
       "14                     3                 0         NaN      ...        \n",
       "15                     4                 0         2.0      ...        \n",
       "16                     1                 0         3.0      ...        \n",
       "17                     3                 0         NaN      ...        \n",
       "18                     1                 0         2.0      ...        \n",
       "19                     1                 1         3.0      ...        \n",
       "20                     1                 1         3.0      ...        \n",
       "21                     1                 0         2.0      ...        \n",
       "22                     5                 0         2.0      ...        \n",
       "23                     1                 1         3.0      ...        \n",
       "24                     3                 0         NaN      ...        \n",
       "25                     3                 0         2.0      ...        \n",
       "26                     1                 0         1.0      ...        \n",
       "27                     2                 1         3.0      ...        \n",
       "28                     2                 0         3.0      ...        \n",
       "29                     3                 1         2.0      ...        \n",
       "...                  ...               ...         ...      ...        \n",
       "891191                 4                 0         2.0      ...        \n",
       "891192                 5                 0         1.0      ...        \n",
       "891193                 5                 0         2.0      ...        \n",
       "891194                 1                 1         3.0      ...        \n",
       "891195                 5                 0         2.0      ...        \n",
       "891196                 3                 0         2.0      ...        \n",
       "891197                 3                 1         1.0      ...        \n",
       "891198                 3                 1         3.0      ...        \n",
       "891199                 4                 0         3.0      ...        \n",
       "891200                 5                 0         3.0      ...        \n",
       "891201                 3                 0         3.0      ...        \n",
       "891202                 4                 0         2.0      ...        \n",
       "891203                 4                 0         2.0      ...        \n",
       "891204                 1                 0         3.0      ...        \n",
       "891205                 4                 0         2.0      ...        \n",
       "891206                 2                 0         3.0      ...        \n",
       "891207                 4                 1         1.0      ...        \n",
       "891208                 1                 0         1.0      ...        \n",
       "891209                 4                 0         3.0      ...        \n",
       "891210                 2                 0         3.0      ...        \n",
       "891211                 2                 0         3.0      ...        \n",
       "891212                 5                 0         1.0      ...        \n",
       "891213                 2                 1         1.0      ...        \n",
       "891214                 4                 0         3.0      ...        \n",
       "891215                 4                 0         2.0      ...        \n",
       "891216                 4                 0         3.0      ...        \n",
       "891217                 3                 0         NaN      ...        \n",
       "891218                 3                 0         1.0      ...        \n",
       "891219                 5                 0         1.0      ...        \n",
       "891220                 5                 0         2.0      ...        \n",
       "\n",
       "        PLZ8_GBZ  ARBEIT  ORTSGR_KLS9  RELAT_AB  DECADE  MOVEMENT  WEALTH  \\\n",
       "0            NaN     NaN          NaN       NaN     NaN       NaN     NaN   \n",
       "1            4.0     3.0          5.0       4.0    90.0       0.0     5.0   \n",
       "2            4.0     3.0          5.0       2.0    90.0       1.0     2.0   \n",
       "3            4.0     2.0          3.0       3.0    70.0       0.0     1.0   \n",
       "4            3.0     4.0          6.0       5.0    70.0       0.0     4.0   \n",
       "5            5.0     2.0          3.0       3.0    50.0       0.0     5.0   \n",
       "6            5.0     4.0          6.0       3.0    80.0       0.0     2.0   \n",
       "7            4.0     2.0          5.0       2.0    70.0       0.0     1.0   \n",
       "8            3.0     2.0          4.0       3.0    80.0       1.0     1.0   \n",
       "9            3.0     2.0          3.0       1.0    90.0       1.0     1.0   \n",
       "10           3.0     4.0          6.0       5.0    50.0       0.0     5.0   \n",
       "11           NaN     NaN          NaN       NaN     NaN       NaN     NaN   \n",
       "12           5.0     3.0          6.0       4.0    70.0       0.0     4.0   \n",
       "13           3.0     3.0          6.0       4.0    90.0       1.0     3.0   \n",
       "14           NaN     NaN          NaN       NaN     NaN       NaN     NaN   \n",
       "15           NaN     4.0          8.0       5.0    60.0       0.0     4.0   \n",
       "16           4.0     1.0          2.0       1.0    90.0       0.0     4.0   \n",
       "17           NaN     NaN          NaN       NaN     NaN       NaN     NaN   \n",
       "18           3.0     3.0          4.0       3.0    80.0       0.0     2.0   \n",
       "19           4.0     4.0          6.0       3.0    70.0       1.0     3.0   \n",
       "20           NaN     3.0          4.0       1.0    80.0       1.0     2.0   \n",
       "21           3.0     5.0          7.0       5.0    80.0       0.0     5.0   \n",
       "22           3.0     4.0          5.0       5.0    90.0       0.0     5.0   \n",
       "23           NaN     3.0          6.0       2.0    70.0       1.0     4.0   \n",
       "24           NaN     NaN          NaN       NaN     NaN       NaN     NaN   \n",
       "25           5.0     3.0          2.0       5.0    90.0       0.0     3.0   \n",
       "26           NaN     4.0          3.0       5.0    70.0       0.0     NaN   \n",
       "27           3.0     4.0          7.0       5.0    80.0       1.0     5.0   \n",
       "28           5.0     3.0          4.0       1.0    80.0       0.0     1.0   \n",
       "29           4.0     2.0          4.0       3.0    60.0       1.0     1.0   \n",
       "...          ...     ...          ...       ...     ...       ...     ...   \n",
       "891191       5.0     1.0          3.0       1.0    50.0       0.0     4.0   \n",
       "891192       3.0     3.0          5.0       1.0    90.0       0.0     3.0   \n",
       "891193       2.0     4.0          6.0       4.0    60.0       0.0     4.0   \n",
       "891194       4.0     4.0          8.0       5.0    80.0       1.0     2.0   \n",
       "891195       3.0     4.0          7.0       5.0    70.0       0.0     5.0   \n",
       "891196       3.0     3.0          4.0       5.0    90.0       0.0     2.0   \n",
       "891197       4.0     3.0          9.0       5.0    80.0       1.0     2.0   \n",
       "891198       5.0     3.0          9.0       5.0    90.0       1.0     1.0   \n",
       "891199       3.0     3.0          7.0       3.0    80.0       0.0     5.0   \n",
       "891200       3.0     4.0          6.0       5.0    90.0       0.0     5.0   \n",
       "891201       3.0     3.0          7.0       5.0    80.0       0.0     4.0   \n",
       "891202       2.0     4.0          8.0       5.0    80.0       0.0     4.0   \n",
       "891203       3.0     4.0          8.0       5.0     NaN       NaN     2.0   \n",
       "891204       4.0     4.0          7.0       3.0    80.0       0.0     2.0   \n",
       "891205       2.0     3.0          7.0       5.0    50.0       0.0     3.0   \n",
       "891206       5.0     3.0          4.0       3.0    90.0       0.0     2.0   \n",
       "891207       2.0     1.0          5.0       1.0    40.0       1.0     4.0   \n",
       "891208       3.0     4.0          2.0       5.0    70.0       0.0     1.0   \n",
       "891209       4.0     4.0          5.0       5.0    90.0       0.0     5.0   \n",
       "891210       3.0     3.0          9.0       5.0    70.0       0.0     4.0   \n",
       "891211       2.0     3.0          5.0       5.0    70.0       0.0     5.0   \n",
       "891212       1.0     3.0          9.0       5.0    50.0       0.0     5.0   \n",
       "891213       5.0     3.0          4.0       4.0    80.0       1.0     3.0   \n",
       "891214       2.0     3.0          7.0       3.0    90.0       0.0     2.0   \n",
       "891215       4.0     2.0          5.0       2.0    80.0       0.0     3.0   \n",
       "891216       3.0     NaN          NaN       NaN    90.0       0.0     4.0   \n",
       "891217       3.0     4.0          6.0       5.0    80.0       0.0     5.0   \n",
       "891218       4.0     2.0          2.0       3.0    90.0       0.0     2.0   \n",
       "891219       1.0     4.0          7.0       5.0    90.0       0.0     5.0   \n",
       "891220       4.0     3.0          4.0       5.0    50.0       0.0     4.0   \n",
       "\n",
       "        LIFE_STAGE  NEIGHBORHOOD  HOUSING_TYPE  \n",
       "0              NaN           NaN           NaN  \n",
       "1              1.0           4.0           1.0  \n",
       "2              4.0           2.0           1.0  \n",
       "3              2.0           7.0           1.0  \n",
       "4              3.0           3.0           2.0  \n",
       "5              4.0           7.0           1.0  \n",
       "6              2.0           5.0           1.0  \n",
       "7              4.0           1.0           1.0  \n",
       "8              3.0           1.0           1.0  \n",
       "9              5.0           7.0           1.0  \n",
       "10             1.0           5.0           2.0  \n",
       "11             NaN           NaN           NaN  \n",
       "12             3.0           3.0           1.0  \n",
       "13             3.0           5.0           1.0  \n",
       "14             NaN           NaN           NaN  \n",
       "15             1.0           3.0           NaN  \n",
       "16             1.0           7.0           1.0  \n",
       "17             NaN           NaN           NaN  \n",
       "18             4.0           2.0           1.0  \n",
       "19             4.0           1.0           2.0  \n",
       "20             4.0           5.0           NaN  \n",
       "21             5.0           4.0           4.0  \n",
       "22             1.0           4.0           2.0  \n",
       "23             3.0           3.0           NaN  \n",
       "24             NaN           NaN           NaN  \n",
       "25             3.0           7.0           1.0  \n",
       "26             NaN           7.0           NaN  \n",
       "27             1.0           3.0           4.0  \n",
       "28             3.0           5.0           1.0  \n",
       "29             2.0           3.0           1.0  \n",
       "...            ...           ...           ...  \n",
       "891191         4.0           7.0           1.0  \n",
       "891192         2.0           5.0           1.0  \n",
       "891193         3.0           5.0           2.0  \n",
       "891194         4.0           2.0           1.0  \n",
       "891195         5.0           2.0           1.0  \n",
       "891196         3.0           4.0           1.0  \n",
       "891197         4.0           2.0           1.0  \n",
       "891198         4.0           3.0           1.0  \n",
       "891199         1.0           4.0           5.0  \n",
       "891200         2.0           4.0           2.0  \n",
       "891201         1.0           3.0           3.0  \n",
       "891202         1.0           4.0           5.0  \n",
       "891203         5.0           1.0           1.0  \n",
       "891204         4.0           3.0           1.0  \n",
       "891205         4.0           5.0           3.0  \n",
       "891206         5.0           2.0           1.0  \n",
       "891207         1.0           4.0           4.0  \n",
       "891208         4.0           7.0           1.0  \n",
       "891209         1.0           3.0           5.0  \n",
       "891210         1.0           3.0           1.0  \n",
       "891211         1.0           3.0           2.0  \n",
       "891212         1.0           3.0           5.0  \n",
       "891213         4.0           4.0           2.0  \n",
       "891214         3.0           3.0           5.0  \n",
       "891215         1.0           3.0           2.0  \n",
       "891216         1.0           3.0           1.0  \n",
       "891217         1.0           5.0           4.0  \n",
       "891218         4.0           7.0           1.0  \n",
       "891219         1.0           5.0           5.0  \n",
       "891220         3.0           4.0           1.0  \n",
       "\n",
       "[891221 rows x 66 columns]>"
      ]
     },
     "execution_count": 53,
     "metadata": {},
     "output_type": "execute_result"
    }
   ],
   "source": [
    "# If there are other re-engineering tasks you need to perform, make sure you\n",
    "# take care of them here. (Dealing with missing data will come in step 2.1.)\n",
    "azdias.info\n"
   ]
  },
  {
   "cell_type": "code",
   "execution_count": 54,
   "metadata": {},
   "outputs": [],
   "source": [
    "# Do whatever you need to in order to ensure that the dataframe only contains\n",
    "# the columns that should be passed to the algorithm functions.\n",
    "\n"
   ]
  },
  {
   "cell_type": "markdown",
   "metadata": {},
   "source": [
    "### Step 1.3: Create a Cleaning Function\n",
    "\n",
    "Even though you've finished cleaning up the general population demographics data, it's important to look ahead to the future and realize that you'll need to perform the same cleaning steps on the customer demographics data. In this substep, complete the function below to execute the main feature selection, encoding, and re-engineering steps you performed above. Then, when it comes to looking at the customer data in Step 3, you can just run this function on that DataFrame to get the trimmed dataset in a single step."
   ]
  },
  {
   "cell_type": "code",
   "execution_count": 85,
   "metadata": {},
   "outputs": [],
   "source": [
    "def clean_data(df):\n",
    "    \"\"\"\n",
    "    Perform feature trimming, re-encoding, and engineering for demographics\n",
    "    data\n",
    "    \n",
    "    INPUT: Demographics DataFrame\n",
    "    OUTPUT: Trimmed and cleaned demographics DataFrame\n",
    "    \"\"\"\n",
    "    azdias = df.copy()\n",
    "    # Put in code here to execute all main cleaning steps:\n",
    "    # convert missing value codes into NaNs, ...\n",
    "    # Identify missing or unknown data values and convert them to NaNs. \n",
    "    \n",
    "    for f in range(len(feat_info)): \n",
    "        missing_or_unknown_values = feat_info.iloc[f]['missing_or_unknown'] \n",
    "        missing_or_unknown_values = missing_or_unknown_values.strip(']') \n",
    "        missing_or_unknown_values = missing_or_unknown_values.strip('[') \n",
    "        missing_or_unknown_values = missing_or_unknown_values.split(sep=',') \n",
    "        missing_or_unknown_values = [int(value) if (value!='' and value!='X' and value!='XX') else value for value in missing_or_unknown_values] \n",
    "        if missing_or_unknown_values != ['']:\n",
    "            azdias = azdias.replace({feat_info.iloc[f]['attribute']: missing_or_unknown_values}, np.nan)\n",
    "\n",
    "    # Remove rows that have > 10 missing values per row\n",
    "    azdias = azdias[azdias.isnull().sum(axis=1) <= 10]\n",
    "    \n",
    "    # select, re-encode, and engineer column values.\n",
    "    # Map values for the new features\n",
    "    decade_map = {1:40, 2:40,3:50,4:50,5:60,6:60,7:60,8:70,9:70,10:80,11:80,12:80,13:80,14:90,15:90}\n",
    "    movement_map = {1:0,2:1,3:0,4:1,5:0,6:1,7:1,8:0,9:1,10:0,11:1,12:0,13:1,14:0,15:1}\n",
    "\n",
    "    # Create new features based on mapping dictionaries\n",
    "    azdias['DECADE'] = azdias['PRAEGENDE_JUGENDJAHRE'].map(decade_map)\n",
    "    azdias['MOVEMENT'] = azdias['PRAEGENDE_JUGENDJAHRE'].map(movement_map)\n",
    "\n",
    "    # Create new features \n",
    "    azdias['WEALTH'] = azdias['CAMEO_INTL_2015'].apply(get_wealth)\n",
    "    azdias['LIFE_STAGE'] = azdias['CAMEO_INTL_2015'].apply(get_life_stage)\n",
    "\n",
    "    # Create new features for the neighborhood and housing types\n",
    "    azdias['NEIGHBORHOOD'] = azdias['WOHNLAGE'].apply(get_wohnlage)\n",
    "    azdias['HOUSING_TYPE'] = azdias['PLZ8_BAUMAX'].apply(get_plz8)\n",
    "    \n",
    "    # Remove columns that had most outlierers\n",
    "    outliers_to_remove = ['AGER_TYP', 'GEBURTSJAHR', 'TITEL_KZ', 'ALTER_HH', 'KK_KUNDENTYP', 'KBA05_BAUMAX']\n",
    "    azdias = azdias.drop(outliers_to_remove, axis=1)\n",
    "    \n",
    "    # Remove Categorical Features that have 3 or more values\n",
    "    cat_features_to_remove = ['CJT_GESAMTTYP', 'FINANZTYP','GFK_URLAUBERTYP', 'LP_FAMILIE_FEIN', 'LP_FAMILIE_GROB', 'LP_STATUS_FEIN', 'LP_STATUS_GROB', 'NATIONALITAET_KZ', 'SHOPPER_TYP', 'ZABEOTYP', 'GEBAEUDETYP', 'CAMEO_DEUG_2015', 'CAMEO_DEU_2015']\n",
    "    azdias = azdias.drop(cat_features_to_remove, axis=1)\n",
    "\n",
    "    # Remove features from dataframe\n",
    "    azdias = azdias.drop(['PRAEGENDE_JUGENDJAHRE','CAMEO_INTL_2015'], axis=1)\n",
    "    azdias = azdias.drop(['LP_LEBENSPHASE_FEIN','LP_LEBENSPHASE_GROB', 'WOHNLAGE', 'PLZ8_BAUMAX'], axis=1)\n",
    "    \n",
    "    # Return the cleaned dataframe.\n",
    "    \n",
    "    return azdias"
   ]
  },
  {
   "cell_type": "code",
   "execution_count": 56,
   "metadata": {},
   "outputs": [
    {
     "name": "stdout",
     "output_type": "stream",
     "text": [
      "Total Time for Cleanning the data is 155.4878180027008\n"
     ]
    }
   ],
   "source": [
    "# Test clean_data function\n",
    "start = time()\n",
    "azdias_clean = clean_data(azdias_backup)\n",
    "end = time()\n",
    "print('Total Time for Cleanning the data is ' + str(end - start))"
   ]
  },
  {
   "cell_type": "markdown",
   "metadata": {},
   "source": [
    "## Step 2: Feature Transformation\n",
    "\n",
    "### Step 2.1: Apply Feature Scaling\n",
    "\n",
    "Before we apply dimensionality reduction techniques to the data, we need to perform feature scaling so that the principal component vectors are not influenced by the natural differences in scale for features. Starting from this part of the project, you'll want to keep an eye on the [API reference page for sklearn](http://scikit-learn.org/stable/modules/classes.html) to help you navigate to all of the classes and functions that you'll need. In this substep, you'll need to check the following:\n",
    "\n",
    "- sklearn requires that data not have missing values in order for its estimators to work properly. So, before applying the scaler to your data, make sure that you've cleaned the DataFrame of the remaining missing values. This can be as simple as just removing all data points with missing data, or applying an [Imputer](http://scikit-learn.org/stable/modules/generated/sklearn.preprocessing.Imputer.html) to replace all missing values. You might also try a more complicated procedure where you temporarily remove missing values in order to compute the scaling parameters before re-introducing those missing values and applying imputation. Think about how much missing data you have and what possible effects each approach might have on your analysis, and justify your decision in the discussion section below.\n",
    "- For the actual scaling function, a [StandardScaler](http://scikit-learn.org/stable/modules/generated/sklearn.preprocessing.StandardScaler.html) instance is suggested, scaling each feature to mean 0 and standard deviation 1.\n",
    "- For these classes, you can make use of the `.fit_transform()` method to both fit a procedure to the data as well as apply the transformation to the data at the same time. Don't forget to keep the fit sklearn objects handy, since you'll be applying them to the customer demographics data towards the end of the project."
   ]
  },
  {
   "cell_type": "code",
   "execution_count": 57,
   "metadata": {},
   "outputs": [
    {
     "data": {
      "text/plain": [
       "count        66.000000\n",
       "mean      66125.045455\n",
       "std       55515.429360\n",
       "min           0.000000\n",
       "25%           0.000000\n",
       "50%       93148.000000\n",
       "75%      111196.000000\n",
       "max      158064.000000\n",
       "dtype: float64"
      ]
     },
     "execution_count": 57,
     "metadata": {},
     "output_type": "execute_result"
    }
   ],
   "source": [
    "# If you've not yet cleaned the dataset of all NaN values, then investigate and\n",
    "# do that now.\n",
    "azdias.isnull().sum().describe()"
   ]
  },
  {
   "cell_type": "code",
   "execution_count": 58,
   "metadata": {},
   "outputs": [],
   "source": [
    "# Create copy of azdias for the Imputer\n",
    "azdias_encode = azdias.copy()"
   ]
  },
  {
   "cell_type": "code",
   "execution_count": 59,
   "metadata": {},
   "outputs": [],
   "source": [
    "# Replace missing values using the Imputer\n",
    "imputer = Imputer(missing_values='NaN', strategy = 'most_frequent', axis=0)\n",
    "azdias_imputed = pd.DataFrame(imputer.fit_transform(azdias_encode), index=azdias_encode.index, columns=azdias_encode.columns)"
   ]
  },
  {
   "cell_type": "code",
   "execution_count": 60,
   "metadata": {},
   "outputs": [
    {
     "data": {
      "text/plain": [
       "count    891221.0\n",
       "mean          0.0\n",
       "std           0.0\n",
       "min           0.0\n",
       "25%           0.0\n",
       "50%           0.0\n",
       "75%           0.0\n",
       "max           0.0\n",
       "dtype: float64"
      ]
     },
     "execution_count": 60,
     "metadata": {},
     "output_type": "execute_result"
    }
   ],
   "source": [
    "# Check for Null valles\n",
    "azdias_imputed.isnull().sum(axis=1).describe()"
   ]
  },
  {
   "cell_type": "code",
   "execution_count": 61,
   "metadata": {},
   "outputs": [],
   "source": [
    "# Apply feature scaling to the general population demographics data.\n",
    "scaler = StandardScaler()\n",
    "azdias_scaled = pd.DataFrame(scaler.fit_transform(azdias_imputed), index=azdias_imputed.index, columns=azdias_imputed.columns)\n"
   ]
  },
  {
   "cell_type": "code",
   "execution_count": 62,
   "metadata": {},
   "outputs": [
    {
     "data": {
      "text/html": [
       "<div>\n",
       "<style scoped>\n",
       "    .dataframe tbody tr th:only-of-type {\n",
       "        vertical-align: middle;\n",
       "    }\n",
       "\n",
       "    .dataframe tbody tr th {\n",
       "        vertical-align: top;\n",
       "    }\n",
       "\n",
       "    .dataframe thead th {\n",
       "        text-align: right;\n",
       "    }\n",
       "</style>\n",
       "<table border=\"1\" class=\"dataframe\">\n",
       "  <thead>\n",
       "    <tr style=\"text-align: right;\">\n",
       "      <th></th>\n",
       "      <th>ALTERSKATEGORIE_GROB</th>\n",
       "      <th>ANREDE_KZ</th>\n",
       "      <th>FINANZ_MINIMALIST</th>\n",
       "      <th>FINANZ_SPARER</th>\n",
       "      <th>FINANZ_VORSORGER</th>\n",
       "      <th>FINANZ_ANLEGER</th>\n",
       "      <th>FINANZ_UNAUFFAELLIGER</th>\n",
       "      <th>FINANZ_HAUSBAUER</th>\n",
       "      <th>GREEN_AVANTGARDE</th>\n",
       "      <th>HEALTH_TYP</th>\n",
       "      <th>...</th>\n",
       "      <th>PLZ8_GBZ</th>\n",
       "      <th>ARBEIT</th>\n",
       "      <th>ORTSGR_KLS9</th>\n",
       "      <th>RELAT_AB</th>\n",
       "      <th>DECADE</th>\n",
       "      <th>MOVEMENT</th>\n",
       "      <th>WEALTH</th>\n",
       "      <th>LIFE_STAGE</th>\n",
       "      <th>NEIGHBORHOOD</th>\n",
       "      <th>HOUSING_TYPE</th>\n",
       "    </tr>\n",
       "  </thead>\n",
       "  <tbody>\n",
       "    <tr>\n",
       "      <th>count</th>\n",
       "      <td>8.912210e+05</td>\n",
       "      <td>8.912210e+05</td>\n",
       "      <td>8.912210e+05</td>\n",
       "      <td>8.912210e+05</td>\n",
       "      <td>8.912210e+05</td>\n",
       "      <td>8.912210e+05</td>\n",
       "      <td>8.912210e+05</td>\n",
       "      <td>8.912210e+05</td>\n",
       "      <td>8.912210e+05</td>\n",
       "      <td>8.912210e+05</td>\n",
       "      <td>...</td>\n",
       "      <td>8.912210e+05</td>\n",
       "      <td>8.912210e+05</td>\n",
       "      <td>8.912210e+05</td>\n",
       "      <td>8.912210e+05</td>\n",
       "      <td>8.912210e+05</td>\n",
       "      <td>8.912210e+05</td>\n",
       "      <td>8.912210e+05</td>\n",
       "      <td>8.912210e+05</td>\n",
       "      <td>8.912210e+05</td>\n",
       "      <td>8.912210e+05</td>\n",
       "    </tr>\n",
       "    <tr>\n",
       "      <th>mean</th>\n",
       "      <td>2.500235e-17</td>\n",
       "      <td>1.004638e-16</td>\n",
       "      <td>3.507983e-18</td>\n",
       "      <td>9.879756e-17</td>\n",
       "      <td>5.941247e-17</td>\n",
       "      <td>-3.310260e-17</td>\n",
       "      <td>3.897050e-17</td>\n",
       "      <td>1.505562e-16</td>\n",
       "      <td>9.583171e-18</td>\n",
       "      <td>-2.028571e-16</td>\n",
       "      <td>...</td>\n",
       "      <td>1.080140e-16</td>\n",
       "      <td>-1.562647e-18</td>\n",
       "      <td>5.084582e-17</td>\n",
       "      <td>1.161940e-16</td>\n",
       "      <td>3.912995e-16</td>\n",
       "      <td>9.583171e-18</td>\n",
       "      <td>1.181552e-17</td>\n",
       "      <td>8.355377e-17</td>\n",
       "      <td>-6.933050e-17</td>\n",
       "      <td>-2.088844e-17</td>\n",
       "    </tr>\n",
       "    <tr>\n",
       "      <th>std</th>\n",
       "      <td>1.000001e+00</td>\n",
       "      <td>1.000001e+00</td>\n",
       "      <td>1.000001e+00</td>\n",
       "      <td>1.000001e+00</td>\n",
       "      <td>1.000001e+00</td>\n",
       "      <td>1.000001e+00</td>\n",
       "      <td>1.000001e+00</td>\n",
       "      <td>1.000001e+00</td>\n",
       "      <td>1.000001e+00</td>\n",
       "      <td>1.000001e+00</td>\n",
       "      <td>...</td>\n",
       "      <td>1.000001e+00</td>\n",
       "      <td>1.000001e+00</td>\n",
       "      <td>1.000001e+00</td>\n",
       "      <td>1.000001e+00</td>\n",
       "      <td>1.000001e+00</td>\n",
       "      <td>1.000001e+00</td>\n",
       "      <td>1.000001e+00</td>\n",
       "      <td>1.000001e+00</td>\n",
       "      <td>1.000001e+00</td>\n",
       "      <td>1.000001e+00</td>\n",
       "    </tr>\n",
       "    <tr>\n",
       "      <th>min</th>\n",
       "      <td>-1.743339e+00</td>\n",
       "      <td>-1.045218e+00</td>\n",
       "      <td>-1.570358e+00</td>\n",
       "      <td>-1.243244e+00</td>\n",
       "      <td>-1.816084e+00</td>\n",
       "      <td>-1.329319e+00</td>\n",
       "      <td>-1.260597e+00</td>\n",
       "      <td>-1.533438e+00</td>\n",
       "      <td>-4.947009e-01</td>\n",
       "      <td>-1.708990e+00</td>\n",
       "      <td>...</td>\n",
       "      <td>-2.232324e+00</td>\n",
       "      <td>-2.308299e+00</td>\n",
       "      <td>-1.958378e+00</td>\n",
       "      <td>-1.606600e+00</td>\n",
       "      <td>-2.401220e+00</td>\n",
       "      <td>-4.947009e-01</td>\n",
       "      <td>-1.653917e+00</td>\n",
       "      <td>-1.095866e+00</td>\n",
       "      <td>-2.105348e+00</td>\n",
       "      <td>-5.870830e-01</td>\n",
       "    </tr>\n",
       "    <tr>\n",
       "      <th>25%</th>\n",
       "      <td>-7.516797e-01</td>\n",
       "      <td>-1.045218e+00</td>\n",
       "      <td>-8.133868e-01</td>\n",
       "      <td>-1.243244e+00</td>\n",
       "      <td>-3.033778e-01</td>\n",
       "      <td>-6.755539e-01</td>\n",
       "      <td>-5.879796e-01</td>\n",
       "      <td>-7.944745e-01</td>\n",
       "      <td>-4.947009e-01</td>\n",
       "      <td>-3.853969e-01</td>\n",
       "      <td>...</td>\n",
       "      <td>-3.172055e-01</td>\n",
       "      <td>-2.635063e-01</td>\n",
       "      <td>-5.796808e-01</td>\n",
       "      <td>-8.279336e-01</td>\n",
       "      <td>-3.634934e-01</td>\n",
       "      <td>-4.947009e-01</td>\n",
       "      <td>-9.804530e-01</td>\n",
       "      <td>-1.095866e+00</td>\n",
       "      <td>-5.034282e-01</td>\n",
       "      <td>-5.870830e-01</td>\n",
       "    </tr>\n",
       "    <tr>\n",
       "      <th>50%</th>\n",
       "      <td>2.399800e-01</td>\n",
       "      <td>9.567382e-01</td>\n",
       "      <td>-5.641562e-02</td>\n",
       "      <td>1.221788e-01</td>\n",
       "      <td>-3.033778e-01</td>\n",
       "      <td>-2.178896e-02</td>\n",
       "      <td>8.463740e-02</td>\n",
       "      <td>-5.551131e-02</td>\n",
       "      <td>-4.947009e-01</td>\n",
       "      <td>-3.853969e-01</td>\n",
       "      <td>...</td>\n",
       "      <td>-3.172055e-01</td>\n",
       "      <td>-2.635063e-01</td>\n",
       "      <td>-1.201149e-01</td>\n",
       "      <td>-4.926747e-02</td>\n",
       "      <td>3.157487e-01</td>\n",
       "      <td>-4.947009e-01</td>\n",
       "      <td>3.664744e-01</td>\n",
       "      <td>2.210984e-01</td>\n",
       "      <td>-5.034282e-01</td>\n",
       "      <td>-5.870830e-01</td>\n",
       "    </tr>\n",
       "    <tr>\n",
       "      <th>75%</th>\n",
       "      <td>1.231640e+00</td>\n",
       "      <td>9.567382e-01</td>\n",
       "      <td>7.005556e-01</td>\n",
       "      <td>8.048901e-01</td>\n",
       "      <td>1.209329e+00</td>\n",
       "      <td>1.285741e+00</td>\n",
       "      <td>7.572544e-01</td>\n",
       "      <td>6.834519e-01</td>\n",
       "      <td>-4.947009e-01</td>\n",
       "      <td>9.381966e-01</td>\n",
       "      <td>...</td>\n",
       "      <td>6.403537e-01</td>\n",
       "      <td>7.588900e-01</td>\n",
       "      <td>7.990167e-01</td>\n",
       "      <td>7.293987e-01</td>\n",
       "      <td>9.949908e-01</td>\n",
       "      <td>-4.947009e-01</td>\n",
       "      <td>1.039938e+00</td>\n",
       "      <td>8.795808e-01</td>\n",
       "      <td>5.645185e-01</td>\n",
       "      <td>1.284276e-01</td>\n",
       "    </tr>\n",
       "    <tr>\n",
       "      <th>max</th>\n",
       "      <td>1.231640e+00</td>\n",
       "      <td>9.567382e-01</td>\n",
       "      <td>1.457527e+00</td>\n",
       "      <td>1.487601e+00</td>\n",
       "      <td>1.209329e+00</td>\n",
       "      <td>1.285741e+00</td>\n",
       "      <td>1.429871e+00</td>\n",
       "      <td>1.422415e+00</td>\n",
       "      <td>2.021423e+00</td>\n",
       "      <td>9.381966e-01</td>\n",
       "      <td>...</td>\n",
       "      <td>1.597913e+00</td>\n",
       "      <td>1.781286e+00</td>\n",
       "      <td>1.718148e+00</td>\n",
       "      <td>1.508065e+00</td>\n",
       "      <td>9.949908e-01</td>\n",
       "      <td>2.021423e+00</td>\n",
       "      <td>1.039938e+00</td>\n",
       "      <td>1.538063e+00</td>\n",
       "      <td>2.166438e+00</td>\n",
       "      <td>2.274959e+00</td>\n",
       "    </tr>\n",
       "  </tbody>\n",
       "</table>\n",
       "<p>8 rows × 66 columns</p>\n",
       "</div>"
      ],
      "text/plain": [
       "       ALTERSKATEGORIE_GROB     ANREDE_KZ  FINANZ_MINIMALIST  FINANZ_SPARER  \\\n",
       "count          8.912210e+05  8.912210e+05       8.912210e+05   8.912210e+05   \n",
       "mean           2.500235e-17  1.004638e-16       3.507983e-18   9.879756e-17   \n",
       "std            1.000001e+00  1.000001e+00       1.000001e+00   1.000001e+00   \n",
       "min           -1.743339e+00 -1.045218e+00      -1.570358e+00  -1.243244e+00   \n",
       "25%           -7.516797e-01 -1.045218e+00      -8.133868e-01  -1.243244e+00   \n",
       "50%            2.399800e-01  9.567382e-01      -5.641562e-02   1.221788e-01   \n",
       "75%            1.231640e+00  9.567382e-01       7.005556e-01   8.048901e-01   \n",
       "max            1.231640e+00  9.567382e-01       1.457527e+00   1.487601e+00   \n",
       "\n",
       "       FINANZ_VORSORGER  FINANZ_ANLEGER  FINANZ_UNAUFFAELLIGER  \\\n",
       "count      8.912210e+05    8.912210e+05           8.912210e+05   \n",
       "mean       5.941247e-17   -3.310260e-17           3.897050e-17   \n",
       "std        1.000001e+00    1.000001e+00           1.000001e+00   \n",
       "min       -1.816084e+00   -1.329319e+00          -1.260597e+00   \n",
       "25%       -3.033778e-01   -6.755539e-01          -5.879796e-01   \n",
       "50%       -3.033778e-01   -2.178896e-02           8.463740e-02   \n",
       "75%        1.209329e+00    1.285741e+00           7.572544e-01   \n",
       "max        1.209329e+00    1.285741e+00           1.429871e+00   \n",
       "\n",
       "       FINANZ_HAUSBAUER  GREEN_AVANTGARDE    HEALTH_TYP      ...       \\\n",
       "count      8.912210e+05      8.912210e+05  8.912210e+05      ...        \n",
       "mean       1.505562e-16      9.583171e-18 -2.028571e-16      ...        \n",
       "std        1.000001e+00      1.000001e+00  1.000001e+00      ...        \n",
       "min       -1.533438e+00     -4.947009e-01 -1.708990e+00      ...        \n",
       "25%       -7.944745e-01     -4.947009e-01 -3.853969e-01      ...        \n",
       "50%       -5.551131e-02     -4.947009e-01 -3.853969e-01      ...        \n",
       "75%        6.834519e-01     -4.947009e-01  9.381966e-01      ...        \n",
       "max        1.422415e+00      2.021423e+00  9.381966e-01      ...        \n",
       "\n",
       "           PLZ8_GBZ        ARBEIT   ORTSGR_KLS9      RELAT_AB        DECADE  \\\n",
       "count  8.912210e+05  8.912210e+05  8.912210e+05  8.912210e+05  8.912210e+05   \n",
       "mean   1.080140e-16 -1.562647e-18  5.084582e-17  1.161940e-16  3.912995e-16   \n",
       "std    1.000001e+00  1.000001e+00  1.000001e+00  1.000001e+00  1.000001e+00   \n",
       "min   -2.232324e+00 -2.308299e+00 -1.958378e+00 -1.606600e+00 -2.401220e+00   \n",
       "25%   -3.172055e-01 -2.635063e-01 -5.796808e-01 -8.279336e-01 -3.634934e-01   \n",
       "50%   -3.172055e-01 -2.635063e-01 -1.201149e-01 -4.926747e-02  3.157487e-01   \n",
       "75%    6.403537e-01  7.588900e-01  7.990167e-01  7.293987e-01  9.949908e-01   \n",
       "max    1.597913e+00  1.781286e+00  1.718148e+00  1.508065e+00  9.949908e-01   \n",
       "\n",
       "           MOVEMENT        WEALTH    LIFE_STAGE  NEIGHBORHOOD  HOUSING_TYPE  \n",
       "count  8.912210e+05  8.912210e+05  8.912210e+05  8.912210e+05  8.912210e+05  \n",
       "mean   9.583171e-18  1.181552e-17  8.355377e-17 -6.933050e-17 -2.088844e-17  \n",
       "std    1.000001e+00  1.000001e+00  1.000001e+00  1.000001e+00  1.000001e+00  \n",
       "min   -4.947009e-01 -1.653917e+00 -1.095866e+00 -2.105348e+00 -5.870830e-01  \n",
       "25%   -4.947009e-01 -9.804530e-01 -1.095866e+00 -5.034282e-01 -5.870830e-01  \n",
       "50%   -4.947009e-01  3.664744e-01  2.210984e-01 -5.034282e-01 -5.870830e-01  \n",
       "75%   -4.947009e-01  1.039938e+00  8.795808e-01  5.645185e-01  1.284276e-01  \n",
       "max    2.021423e+00  1.039938e+00  1.538063e+00  2.166438e+00  2.274959e+00  \n",
       "\n",
       "[8 rows x 66 columns]"
      ]
     },
     "execution_count": 62,
     "metadata": {},
     "output_type": "execute_result"
    }
   ],
   "source": [
    "# Review scaled data\n",
    "azdias_scaled.describe()"
   ]
  },
  {
   "cell_type": "markdown",
   "metadata": {},
   "source": [
    "### Discussion 2.1: Apply Feature Scaling\n",
    "\n",
    "To apply the feature scaling I had to first replace the null values with the median values using the Imputer from sklearn.preprocessing and the 'most_frequent' strategy.\n",
    "\n",
    "The scalying step was done using the StandardScaler with the default options for scaling each feature to mean 0 and standard deviation 1."
   ]
  },
  {
   "cell_type": "markdown",
   "metadata": {},
   "source": [
    "### Step 2.2: Perform Dimensionality Reduction\n",
    "\n",
    "On your scaled data, you are now ready to apply dimensionality reduction techniques.\n",
    "\n",
    "- Use sklearn's [PCA](http://scikit-learn.org/stable/modules/generated/sklearn.decomposition.PCA.html) class to apply principal component analysis on the data, thus finding the vectors of maximal variance in the data. To start, you should not set any parameters (so all components are computed) or set a number of components that is at least half the number of features (so there's enough features to see the general trend in variability).\n",
    "- Check out the ratio of variance explained by each principal component as well as the cumulative variance explained. Try plotting the cumulative or sequential values using matplotlib's [`plot()`](https://matplotlib.org/api/_as_gen/matplotlib.pyplot.plot.html) function. Based on what you find, select a value for the number of transformed features you'll retain for the clustering part of the project.\n",
    "- Once you've made a choice for the number of components to keep, make sure you re-fit a PCA instance to perform the decided-on transformation."
   ]
  },
  {
   "cell_type": "code",
   "execution_count": 63,
   "metadata": {},
   "outputs": [],
   "source": [
    "# Apply PCA to the data.\n",
    "pca = PCA()\n",
    "pca_fit = pca.fit(azdias_scaled)"
   ]
  },
  {
   "cell_type": "code",
   "execution_count": 64,
   "metadata": {},
   "outputs": [],
   "source": [
    "# Scree_plot function from helper_functions.py\n",
    "def scree_plot(pca):\n",
    "    '''\n",
    "    Creates a scree plot associated with the principal components\n",
    "\n",
    "    INPUT: pca - the result of instantian of PCA in scikit learn\n",
    "\n",
    "    OUTPUT:\n",
    "            None\n",
    "    '''\n",
    "    num_components=len(pca.explained_variance_ratio_)\n",
    "    ind = np.arange(num_components)\n",
    "    vals = pca.explained_variance_ratio_\n",
    "\n",
    "    plt.figure(figsize=(15, 6))\n",
    "    ax = plt.subplot(111)\n",
    "    cumvals = np.cumsum(vals)\n",
    "    ax.bar(ind, vals)\n",
    "    ax.plot(ind, cumvals)\n",
    "    for i in range(num_components):\n",
    "        ax.annotate(r\"%s%%\" % ((str(vals[i]*100)[:4])), (ind[i]+0.2, vals[i]), va=\"bottom\", ha=\"center\", fontsize=12)\n",
    "\n",
    "    ax.xaxis.set_tick_params(width=0)\n",
    "    ax.yaxis.set_tick_params(width=2, length=12)\n",
    "\n",
    "    ax.set_xlabel(\"Principal Component\")\n",
    "    ax.set_ylabel(\"Variance Explained (%)\")\n",
    "    plt.title('Explained Variance Per Principal Component')"
   ]
  },
  {
   "cell_type": "code",
   "execution_count": 64,
   "metadata": {},
   "outputs": [
    {
     "data": {
      "image/png": "[encoded data removed]",
      "text/plain": [
       "<matplotlib.figure.Figure at 0x7f9746489128>"
      ]
     },
     "metadata": {
      "needs_background": "light"
     },
     "output_type": "display_data"
    }
   ],
   "source": [
    "# Investigate the variance accounted for by each principal component.\n",
    "scree_plot(pca_fit)\n"
   ]
  },
  {
   "cell_type": "code",
   "execution_count": 66,
   "metadata": {},
   "outputs": [
    {
     "data": {
      "image/png": "[encoded data removed]",
      "text/plain": [
       "<matplotlib.figure.Figure at 0x7f6440cac2e8>"
      ]
     },
     "metadata": {
      "needs_background": "light"
     },
     "output_type": "display_data"
    }
   ],
   "source": [
    "# Re-apply PCA to the data while selecting for number of components to retain.\n",
    "pca = PCA(20)\n",
    "pca_fit = pca.fit(azdias_scaled)\n",
    "scree_plot(pca_fit)"
   ]
  },
  {
   "cell_type": "markdown",
   "metadata": {},
   "source": [
    "### Discussion 2.2: Perform Dimensionality Reduction\n",
    "\n",
    "(Double-click this cell and replace this text with your own text, reporting your findings and decisions regarding dimensionality reduction. How many principal components / transformed features are you retaining for the next step of the analysis?)"
   ]
  },
  {
   "cell_type": "markdown",
   "metadata": {},
   "source": [
    "### Step 2.3: Interpret Principal Components\n",
    "\n",
    "Now that we have our transformed principal components, it's a nice idea to check out the weight of each variable on the first few components to see if they can be interpreted in some fashion.\n",
    "\n",
    "As a reminder, each principal component is a unit vector that points in the direction of highest variance (after accounting for the variance captured by earlier principal components). The further a weight is from zero, the more the principal component is in the direction of the corresponding feature. If two features have large weights of the same sign (both positive or both negative), then increases in one tend expect to be associated with increases in the other. To contrast, features with different signs can be expected to show a negative correlation: increases in one variable should result in a decrease in the other.\n",
    "\n",
    "- To investigate the features, you should map each weight to their corresponding feature name, then sort the features according to weight. The most interesting features for each principal component, then, will be those at the beginning and end of the sorted list. Use the data dictionary document to help you understand these most prominent features, their relationships, and what a positive or negative value on the principal component might indicate.\n",
    "- You should investigate and interpret feature associations from the first three principal components in this substep. To help facilitate this, you should write a function that you can call at any time to print the sorted list of feature weights, for the *i*-th principal component. This might come in handy in the next step of the project, when you interpret the tendencies of the discovered clusters."
   ]
  },
  {
   "cell_type": "code",
   "execution_count": 67,
   "metadata": {},
   "outputs": [
    {
     "data": {
      "text/plain": [
       "array([[-0.12260005,  0.01741873, -0.21277434, ..., -0.13520542,\n",
       "        -0.09519172,  0.19336262],\n",
       "       [ 0.25877198,  0.05280655,  0.07001264, ...,  0.02292996,\n",
       "        -0.05146188,  0.11743835],\n",
       "       [ 0.01102494, -0.338833  ,  0.09426771, ...,  0.03465167,\n",
       "         0.00245077,  0.09249548],\n",
       "       ..., \n",
       "       [ 0.11455088, -0.05736731, -0.01970804, ...,  0.08846581,\n",
       "        -0.05082817, -0.07758787],\n",
       "       [-0.10141267,  0.01008485,  0.04214346, ...,  0.13902232,\n",
       "        -0.16742864, -0.00867417],\n",
       "       [-0.03573305,  0.01364634, -0.00678511, ..., -0.29217594,\n",
       "         0.02358548,  0.00765029]])"
      ]
     },
     "execution_count": 67,
     "metadata": {},
     "output_type": "execute_result"
    }
   ],
   "source": [
    "# Function to print weights\n",
    "def print_component(pca, comp):\n",
    "    if comp <= len(pca.components_):\n",
    "        weight_df = pd.DataFrame({'weight': pca.components_[comp]}, index=azdias.columns)\n",
    "        \n",
    "        print(\"Most weighted features for the component \", comp)\n",
    "        print(weight_df.sort_values(by=['weight'], ascending=False).head(5))\n",
    "        print(\"Least weighted features for the component \", comp)\n",
    "        print(weight_df.sort_values(by=['weight'], ascending=False).tail(5))\n",
    "    else:\n",
    "        print('That is not the right input, please read the docstring before continuing.')\n",
    "        \n",
    "pca.components_"
   ]
  },
  {
   "cell_type": "code",
   "execution_count": 68,
   "metadata": {},
   "outputs": [
    {
     "name": "stdout",
     "output_type": "stream",
     "text": [
      "Most weighted features for the component  0\n",
      "                weight\n",
      "PLZ8_ANTG3    0.228210\n",
      "WEALTH        0.205221\n",
      "EWDICHTE      0.202234\n",
      "HOUSING_TYPE  0.193363\n",
      "ORTSGR_KLS9   0.192603\n",
      "Least weighted features for the component  0\n",
      "                     weight\n",
      "KBA05_GBZ         -0.209980\n",
      "FINANZ_MINIMALIST -0.212774\n",
      "KBA05_ANTG1       -0.214452\n",
      "MOBI_REGIO        -0.223464\n",
      "PLZ8_ANTG1        -0.225881\n"
     ]
    }
   ],
   "source": [
    "# Map weights for the first principal component to corresponding feature names\n",
    "# and then print the linked values, sorted by weight.\n",
    "# HINT: Try defining a function here or in a new cell that you can reuse in the\n",
    "# other cells.\n",
    "#Plot the first component\n",
    "print_component(pca_fit, 0)\n"
   ]
  },
  {
   "cell_type": "code",
   "execution_count": 69,
   "metadata": {},
   "outputs": [
    {
     "name": "stdout",
     "output_type": "stream",
     "text": [
      "Most weighted features for the component  1\n",
      "                        weight\n",
      "ALTERSKATEGORIE_GROB  0.258772\n",
      "FINANZ_VORSORGER      0.237980\n",
      "SEMIO_ERL             0.217134\n",
      "SEMIO_LUST            0.175376\n",
      "RETOURTYP_BK_S        0.169626\n",
      "Least weighted features for the component  1\n",
      "                         weight\n",
      "SEMIO_PFLICHT         -0.235084\n",
      "FINANZ_UNAUFFAELLIGER -0.237493\n",
      "FINANZ_SPARER         -0.245817\n",
      "SEMIO_REL             -0.247099\n",
      "DECADE                -0.252282\n"
     ]
    }
   ],
   "source": [
    "# Map weights for the second principal component to corresponding feature names\n",
    "# and then print the linked values, sorted by weight.\n",
    "#Plot the first component\n",
    "print_component(pca, 1)\n"
   ]
  },
  {
   "cell_type": "code",
   "execution_count": 70,
   "metadata": {},
   "outputs": [
    {
     "name": "stdout",
     "output_type": "stream",
     "text": [
      "Most weighted features for the component  3\n",
      "                     weight\n",
      "MOVEMENT           0.356670\n",
      "GREEN_AVANTGARDE   0.356670\n",
      "ORTSGR_KLS9        0.220967\n",
      "ONLINE_AFFINITAET  0.181162\n",
      "ANZ_PERSONEN       0.149246\n",
      "Least weighted features for the component  3\n",
      "                  weight\n",
      "W_KEIT_KIND_HH -0.191559\n",
      "INNENSTADT     -0.193786\n",
      "BALLRAUM       -0.238813\n",
      "REGIOTYP       -0.244871\n",
      "KKK            -0.252877\n"
     ]
    }
   ],
   "source": [
    "# Map weights for the third principal component to corresponding feature names\n",
    "# and then print the linked values, sorted by weight.\n",
    "print_component(pca, 3)\n"
   ]
  },
  {
   "cell_type": "markdown",
   "metadata": {},
   "source": [
    "### Discussion 2.3: Interpret Principal Components\n",
    "\n",
    "Observations of the Principal Components:\n",
    "\n",
    "Principal Component 1:\n",
    "Housing type and Wealth level were the 2 primary themes driving the first of the principal components. The number of 6-10 family homes in the region was largest of the positive indicators and 2 features related to 1 & 2 family homes in the region were the least influentioal indictors. Level of Wealth was the second positive indicator where as FINANZ_MINIMALIST (low financial interest) was also amongst the least influential of the features. The positive and negative features for the first principal component make sense the housing and leavel of wealth are the leading indicators and least interest in Wealth and other housing indicators are the least influential.\n",
    "\n",
    "Principal Component 2:\n",
    "The weighted compents for the secound principal component seems to indentify opposite personalities for the most weighted features versus the least influential.\n",
    "The most influential weighted features the second of the principal components were indicators of age based on surname, followed by features indicating that they were finanicially prepared, event oriented and had a preference for pleasurable activites. The least influential features centered around a more conservative individual with a dutiful personality that likes to be an older, religous, inconspicuous money saver.\n",
    "\n",
    "Principal Component 3:\n",
    "The most influential components of the third principal component group was centered around the youth movenment affilation and environment sustainability, community sixe and the number adults in the household.\n",
    "The least influential components were related to the region and neighorhood, distance to the nearest city and number of adults in the home.\n",
    "\n",
    "The groupings between these three principal components seem to support each other. The mosted weighted features focus on wealth, finance and home size. The least influential components less focused on finanial interests, older, less liley to hve children in household, more conservative amd further from the city.\n"
   ]
  },
  {
   "cell_type": "markdown",
   "metadata": {},
   "source": [
    "## Step 3: Clustering\n",
    "\n",
    "### Step 3.1: Apply Clustering to General Population\n",
    "\n",
    "You've assessed and cleaned the demographics data, then scaled and transformed them. Now, it's time to see how the data clusters in the principal components space. In this substep, you will apply k-means clustering to the dataset and use the average within-cluster distances from each point to their assigned cluster's centroid to decide on a number of clusters to keep.\n",
    "\n",
    "- Use sklearn's [KMeans](http://scikit-learn.org/stable/modules/generated/sklearn.cluster.KMeans.html#sklearn.cluster.KMeans) class to perform k-means clustering on the PCA-transformed data.\n",
    "- Then, compute the average difference from each point to its assigned cluster's center. **Hint**: The KMeans object's `.score()` method might be useful here, but note that in sklearn, scores tend to be defined so that larger is better. Try applying it to a small, toy dataset, or use an internet search to help your understanding.\n",
    "- Perform the above two steps for a number of different cluster counts. You can then see how the average distance decreases with an increasing number of clusters. However, each additional cluster provides a smaller net benefit. Use this fact to select a final number of clusters in which to group the data. **Warning**: because of the large size of the dataset, it can take a long time for the algorithm to resolve. The more clusters to fit, the longer the algorithm will take. You should test for cluster counts through at least 10 clusters to get the full picture, but you shouldn't need to test for a number of clusters above about 30.\n",
    "- Once you've selected a final number of clusters to use, re-fit a KMeans instance to perform the clustering operation. Make sure that you also obtain the cluster assignments for the general demographics data, since you'll be using them in the final Step 3.3."
   ]
  },
  {
   "cell_type": "code",
   "execution_count": 71,
   "metadata": {},
   "outputs": [],
   "source": [
    "# Over a number of different cluster counts...\n",
    "scores = []\n",
    "centers = list(range(1,20,2))\n",
    "\n",
    "# run k-means clustering on the data and...\n",
    "for center in centers:\n",
    "    kmeans = KMeans(center).fit(azdias_scaled)   \n",
    "    \n",
    "    # compute the average within-cluster distances.\n",
    "    scores.append(abs(kmeans.score(azdias_scaled)))\n",
    "    "
   ]
  },
  {
   "cell_type": "code",
   "execution_count": 72,
   "metadata": {},
   "outputs": [
    {
     "data": {
      "image/png": "[encoded data removed]",
      "text/plain": [
       "<matplotlib.figure.Figure at 0x7f6440e97438>"
      ]
     },
     "metadata": {
      "needs_background": "light"
     },
     "output_type": "display_data"
    }
   ],
   "source": [
    "# Investigate the change in within-cluster distance across number of clusters.\n",
    "# HINT: Use matplotlib's plot function to visualize this relationship.\n",
    "plt.plot(centers, scores, linestyle='--', marker='o', color='b');\n",
    "plt.xlabel('K');\n",
    "plt.ylabel('SSE');\n",
    "plt.title('SSE vs. K');\n"
   ]
  },
  {
   "cell_type": "code",
   "execution_count": null,
   "metadata": {},
   "outputs": [],
   "source": [
    "# Re-fit the k-means model with the selected number of clusters and obtain\n",
    "# cluster predictions for the general population demographics data.\n",
    "kmeans = KMeans(10).fit(azdias_scaled) \n",
    "kmeans_predict = kmeans.predict(azdias_scaled)"
   ]
  },
  {
   "cell_type": "markdown",
   "metadata": {},
   "source": [
    "### Discussion 3.1: Apply Clustering to General Population\n",
    "\n",
    "I choose to compare clusters from 2 - 20, by increments of 2. The Scree plot appears to flatten out after 10 clusters, so used 1o clusters to segment the population.\n",
    "\n",
    "\n",
    "\n",
    "\n",
    "\n"
   ]
  },
  {
   "cell_type": "markdown",
   "metadata": {},
   "source": [
    "### Step 3.2: Apply All Steps to the Customer Data\n",
    "\n",
    "Now that you have clusters and cluster centers for the general population, it's time to see how the customer data maps on to those clusters. Take care to not confuse this for re-fitting all of the models to the customer data. Instead, you're going to use the fits from the general population to clean, transform, and cluster the customer data. In the last step of the project, you will interpret how the general population fits apply to the customer data.\n",
    "\n",
    "- Don't forget when loading in the customers data, that it is semicolon (`;`) delimited.\n",
    "- Apply the same feature wrangling, selection, and engineering steps to the customer demographics using the `clean_data()` function you created earlier. (You can assume that the customer demographics data has similar meaning behind missing data patterns as the general demographics data.)\n",
    "- Use the sklearn objects from the general demographics data, and apply their transformations to the customers data. That is, you should not be using a `.fit()` or `.fit_transform()` method to re-fit the old objects, nor should you be creating new sklearn objects! Carry the data through the feature scaling, PCA, and clustering steps, obtaining cluster assignments for all of the data in the customer demographics data."
   ]
  },
  {
   "cell_type": "code",
   "execution_count": 73,
   "metadata": {},
   "outputs": [],
   "source": [
    "# Load in the customer demographics data.\n",
    "customers = pd.read_csv('Udacity_CUSTOMERS_Subset.csv', sep=';')"
   ]
  },
  {
   "cell_type": "code",
   "execution_count": 80,
   "metadata": {},
   "outputs": [
    {
     "data": {
      "text/plain": [
       "50428"
      ]
     },
     "execution_count": 80,
     "metadata": {},
     "output_type": "execute_result"
    }
   ],
   "source": [
    "customers.CAMEO_INTL_2015.isnull().sum()"
   ]
  },
  {
   "cell_type": "code",
   "execution_count": 84,
   "metadata": {},
   "outputs": [
    {
     "ename": "ValueError",
     "evalue": "invalid literal for int() with base 10: 'X'",
     "output_type": "error",
     "traceback": [
      "\u001b[0;31m---------------------------------------------------------------------------\u001b[0m",
      "\u001b[0;31mValueError\u001b[0m                                Traceback (most recent call last)",
      "\u001b[0;32m<ipython-input-84-edd5555b1d88>\u001b[0m in \u001b[0;36m<module>\u001b[0;34m()\u001b[0m\n\u001b[1;32m      2\u001b[0m \u001b[0;31m# demographics onto the customer data, obtaining cluster predictions for the\u001b[0m\u001b[0;34m\u001b[0m\u001b[0;34m\u001b[0m\u001b[0m\n\u001b[1;32m      3\u001b[0m \u001b[0;31m# customer demographics data.\u001b[0m\u001b[0;34m\u001b[0m\u001b[0;34m\u001b[0m\u001b[0m\n\u001b[0;32m----> 4\u001b[0;31m \u001b[0mcustomers_cleaned\u001b[0m \u001b[0;34m=\u001b[0m \u001b[0mclean_data\u001b[0m\u001b[0;34m(\u001b[0m\u001b[0mcustomers\u001b[0m\u001b[0;34m)\u001b[0m\u001b[0;34m\u001b[0m\u001b[0m\n\u001b[0m",
      "\u001b[0;32m<ipython-input-83-a65a32c4022f>\u001b[0m in \u001b[0;36mclean_data\u001b[0;34m(df)\u001b[0m\n\u001b[1;32m     34\u001b[0m \u001b[0;34m\u001b[0m\u001b[0m\n\u001b[1;32m     35\u001b[0m     \u001b[0;31m# Create new features\u001b[0m\u001b[0;34m\u001b[0m\u001b[0;34m\u001b[0m\u001b[0m\n\u001b[0;32m---> 36\u001b[0;31m     \u001b[0mazdias\u001b[0m\u001b[0;34m[\u001b[0m\u001b[0;34m'WEALTH'\u001b[0m\u001b[0;34m]\u001b[0m \u001b[0;34m=\u001b[0m \u001b[0mazdias\u001b[0m\u001b[0;34m[\u001b[0m\u001b[0;34m'CAMEO_INTL_2015'\u001b[0m\u001b[0;34m]\u001b[0m\u001b[0;34m.\u001b[0m\u001b[0mapply\u001b[0m\u001b[0;34m(\u001b[0m\u001b[0mget_wealth\u001b[0m\u001b[0;34m)\u001b[0m\u001b[0;34m\u001b[0m\u001b[0m\n\u001b[0m\u001b[1;32m     37\u001b[0m     \u001b[0mazdias\u001b[0m\u001b[0;34m[\u001b[0m\u001b[0;34m'LIFE_STAGE'\u001b[0m\u001b[0;34m]\u001b[0m \u001b[0;34m=\u001b[0m \u001b[0mazdias\u001b[0m\u001b[0;34m[\u001b[0m\u001b[0;34m'CAMEO_INTL_2015'\u001b[0m\u001b[0;34m]\u001b[0m\u001b[0;34m.\u001b[0m\u001b[0mapply\u001b[0m\u001b[0;34m(\u001b[0m\u001b[0mget_life_stage\u001b[0m\u001b[0;34m)\u001b[0m\u001b[0;34m\u001b[0m\u001b[0m\n\u001b[1;32m     38\u001b[0m \u001b[0;34m\u001b[0m\u001b[0m\n",
      "\u001b[0;32m/opt/conda/lib/python3.6/site-packages/pandas/core/series.py\u001b[0m in \u001b[0;36mapply\u001b[0;34m(self, func, convert_dtype, args, **kwds)\u001b[0m\n\u001b[1;32m   3192\u001b[0m             \u001b[0;32melse\u001b[0m\u001b[0;34m:\u001b[0m\u001b[0;34m\u001b[0m\u001b[0m\n\u001b[1;32m   3193\u001b[0m                 \u001b[0mvalues\u001b[0m \u001b[0;34m=\u001b[0m \u001b[0mself\u001b[0m\u001b[0;34m.\u001b[0m\u001b[0mastype\u001b[0m\u001b[0;34m(\u001b[0m\u001b[0mobject\u001b[0m\u001b[0;34m)\u001b[0m\u001b[0;34m.\u001b[0m\u001b[0mvalues\u001b[0m\u001b[0;34m\u001b[0m\u001b[0m\n\u001b[0;32m-> 3194\u001b[0;31m                 \u001b[0mmapped\u001b[0m \u001b[0;34m=\u001b[0m \u001b[0mlib\u001b[0m\u001b[0;34m.\u001b[0m\u001b[0mmap_infer\u001b[0m\u001b[0;34m(\u001b[0m\u001b[0mvalues\u001b[0m\u001b[0;34m,\u001b[0m \u001b[0mf\u001b[0m\u001b[0;34m,\u001b[0m \u001b[0mconvert\u001b[0m\u001b[0;34m=\u001b[0m\u001b[0mconvert_dtype\u001b[0m\u001b[0;34m)\u001b[0m\u001b[0;34m\u001b[0m\u001b[0m\n\u001b[0m\u001b[1;32m   3195\u001b[0m \u001b[0;34m\u001b[0m\u001b[0m\n\u001b[1;32m   3196\u001b[0m         \u001b[0;32mif\u001b[0m \u001b[0mlen\u001b[0m\u001b[0;34m(\u001b[0m\u001b[0mmapped\u001b[0m\u001b[0;34m)\u001b[0m \u001b[0;32mand\u001b[0m \u001b[0misinstance\u001b[0m\u001b[0;34m(\u001b[0m\u001b[0mmapped\u001b[0m\u001b[0;34m[\u001b[0m\u001b[0;36m0\u001b[0m\u001b[0;34m]\u001b[0m\u001b[0;34m,\u001b[0m \u001b[0mSeries\u001b[0m\u001b[0;34m)\u001b[0m\u001b[0;34m:\u001b[0m\u001b[0;34m\u001b[0m\u001b[0m\n",
      "\u001b[0;32mpandas/_libs/src/inference.pyx\u001b[0m in \u001b[0;36mpandas._libs.lib.map_infer\u001b[0;34m()\u001b[0m\n",
      "\u001b[0;32m<ipython-input-42-0e353c9ef7e4>\u001b[0m in \u001b[0;36mget_wealth\u001b[0;34m(x)\u001b[0m\n\u001b[1;32m      2\u001b[0m \u001b[0;32mdef\u001b[0m \u001b[0mget_wealth\u001b[0m\u001b[0;34m(\u001b[0m\u001b[0mx\u001b[0m\u001b[0;34m)\u001b[0m\u001b[0;34m:\u001b[0m\u001b[0;34m\u001b[0m\u001b[0m\n\u001b[1;32m      3\u001b[0m     \u001b[0;32mif\u001b[0m\u001b[0;34m(\u001b[0m\u001b[0mlen\u001b[0m\u001b[0;34m(\u001b[0m\u001b[0mstr\u001b[0m\u001b[0;34m(\u001b[0m\u001b[0mx\u001b[0m\u001b[0;34m)\u001b[0m\u001b[0;34m)\u001b[0m\u001b[0;34m==\u001b[0m\u001b[0;36m2\u001b[0m\u001b[0;34m)\u001b[0m\u001b[0;34m:\u001b[0m\u001b[0;34m\u001b[0m\u001b[0m\n\u001b[0;32m----> 4\u001b[0;31m         \u001b[0mtens\u001b[0m \u001b[0;34m=\u001b[0m \u001b[0mint\u001b[0m\u001b[0;34m(\u001b[0m\u001b[0mstr\u001b[0m\u001b[0;34m(\u001b[0m\u001b[0mx\u001b[0m\u001b[0;34m)\u001b[0m\u001b[0;34m[\u001b[0m\u001b[0;36m0\u001b[0m\u001b[0;34m]\u001b[0m\u001b[0;34m)\u001b[0m\u001b[0;34m\u001b[0m\u001b[0m\n\u001b[0m\u001b[1;32m      5\u001b[0m         \u001b[0;32mreturn\u001b[0m \u001b[0mtens\u001b[0m\u001b[0;34m\u001b[0m\u001b[0m\n\u001b[1;32m      6\u001b[0m     \u001b[0;32melse\u001b[0m\u001b[0;34m:\u001b[0m \u001b[0;32mreturn\u001b[0m \u001b[0mnp\u001b[0m\u001b[0;34m.\u001b[0m\u001b[0mnan\u001b[0m\u001b[0;34m\u001b[0m\u001b[0m\n",
      "\u001b[0;31mValueError\u001b[0m: invalid literal for int() with base 10: 'X'"
     ]
    }
   ],
   "source": [
    "# Apply preprocessing, feature transformation, and clustering from the general\n",
    "# demographics onto the customer data, obtaining cluster predictions for the\n",
    "# customer demographics data.\n",
    "customers_cleaned = clean_data(customers)\n"
   ]
  },
  {
   "cell_type": "markdown",
   "metadata": {},
   "source": [
    "### Step 3.3: Compare Customer Data to Demographics Data\n",
    "\n",
    "At this point, you have clustered data based on demographics of the general population of Germany, and seen how the customer data for a mail-order sales company maps onto those demographic clusters. In this final substep, you will compare the two cluster distributions to see where the strongest customer base for the company is.\n",
    "\n",
    "Consider the proportion of persons in each cluster for the general population, and the proportions for the customers. If we think the company's customer base to be universal, then the cluster assignment proportions should be fairly similar between the two. If there are only particular segments of the population that are interested in the company's products, then we should see a mismatch from one to the other. If there is a higher proportion of persons in a cluster for the customer data compared to the general population (e.g. 5% of persons are assigned to a cluster for the general population, but 15% of the customer data is closest to that cluster's centroid) then that suggests the people in that cluster to be a target audience for the company. On the other hand, the proportion of the data in a cluster being larger in the general population than the customer data (e.g. only 2% of customers closest to a population centroid that captures 6% of the data) suggests that group of persons to be outside of the target demographics.\n",
    "\n",
    "Take a look at the following points in this step:\n",
    "\n",
    "- Compute the proportion of data points in each cluster for the general population and the customer data. Visualizations will be useful here: both for the individual dataset proportions, but also to visualize the ratios in cluster representation between groups. Seaborn's [`countplot()`](https://seaborn.pydata.org/generated/seaborn.countplot.html) or [`barplot()`](https://seaborn.pydata.org/generated/seaborn.barplot.html) function could be handy.\n",
    "  - Recall the analysis you performed in step 1.1.3 of the project, where you separated out certain data points from the dataset if they had more than a specified threshold of missing values. If you found that this group was qualitatively different from the main bulk of the data, you should treat this as an additional data cluster in this analysis. Make sure that you account for the number of data points in this subset, for both the general population and customer datasets, when making your computations!\n",
    "- Which cluster or clusters are overrepresented in the customer dataset compared to the general population? Select at least one such cluster and infer what kind of people might be represented by that cluster. Use the principal component interpretations from step 2.3 or look at additional components to help you make this inference. Alternatively, you can use the `.inverse_transform()` method of the PCA and StandardScaler objects to transform centroids back to the original data space and interpret the retrieved values directly.\n",
    "- Perform a similar investigation for the underrepresented clusters. Which cluster or clusters are underrepresented in the customer dataset compared to the general population, and what kinds of people are typified by these clusters?"
   ]
  },
  {
   "cell_type": "code",
   "execution_count": null,
   "metadata": {},
   "outputs": [],
   "source": [
    "# Compare the proportion of data in each cluster for the customer data to the\n",
    "# proportion of data in each cluster for the general population.\n",
    "\n"
   ]
  },
  {
   "cell_type": "code",
   "execution_count": null,
   "metadata": {},
   "outputs": [],
   "source": [
    "# What kinds of people are part of a cluster that is overrepresented in the\n",
    "# customer data compared to the general population?\n",
    "\n"
   ]
  },
  {
   "cell_type": "code",
   "execution_count": null,
   "metadata": {},
   "outputs": [],
   "source": [
    "# What kinds of people are part of a cluster that is underrepresented in the\n",
    "# customer data compared to the general population?\n",
    "\n"
   ]
  },
  {
   "cell_type": "markdown",
   "metadata": {},
   "source": [
    "### Discussion 3.3: Compare Customer Data to Demographics Data\n",
    "\n",
    "(Double-click this cell and replace this text with your own text, reporting findings and conclusions from the clustering analysis. Can we describe segments of the population that are relatively popular with the mail-order company, or relatively unpopular with the company?)"
   ]
  },
  {
   "cell_type": "markdown",
   "metadata": {},
   "source": [
    "> Congratulations on making it this far in the project! Before you finish, make sure to check through the entire notebook from top to bottom to make sure that your analysis follows a logical flow and all of your findings are documented in **Discussion** cells. Once you've checked over all of your work, you should export the notebook as an HTML document to submit for evaluation. You can do this from the menu, navigating to **File -> Download as -> HTML (.html)**. You will submit both that document and this notebook for your project submission."
   ]
  },
  {
   "cell_type": "code",
   "execution_count": null,
   "metadata": {},
   "outputs": [],
   "source": []
  }
 ],
 "metadata": {
  "kernelspec": {
   "display_name": "Python 3",
   "language": "python",
   "name": "python3"
  },
  "language_info": {
   "codemirror_mode": {
    "name": "ipython",
    "version": 3
   },
   "file_extension": ".py",
   "mimetype": "text/x-python",
   "name": "python",
   "nbconvert_exporter": "python",
   "pygments_lexer": "ipython3",
   "version": "3.6.3"
  }
 },
 "nbformat": 4,
 "nbformat_minor": 2
}
